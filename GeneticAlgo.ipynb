{
 "cells": [
  {
   "cell_type": "code",
   "execution_count": 532,
   "metadata": {},
   "outputs": [],
   "source": [
    "# using Statistics\n",
    "import Base\n",
    "using StaticArrays;"
   ]
  },
  {
   "cell_type": "code",
   "execution_count": 503,
   "metadata": {},
   "outputs": [],
   "source": [
    "struct Individual\n",
    "    position\n",
    "    cost\n",
    "end"
   ]
  },
  {
   "cell_type": "code",
   "execution_count": 504,
   "metadata": {},
   "outputs": [],
   "source": [
    "struct Output\n",
    "    pop\n",
    "    bestsol\n",
    "    bestcost\n",
    "end"
   ]
  },
  {
   "cell_type": "code",
   "execution_count": 505,
   "metadata": {},
   "outputs": [],
   "source": [
    "struct Problem\n",
    "    costfunc\n",
    "    nvar\n",
    "    varmin\n",
    "    varmax\n",
    "end"
   ]
  },
  {
   "cell_type": "code",
   "execution_count": 506,
   "metadata": {},
   "outputs": [],
   "source": [
    "struct Parameter\n",
    "    maxit\n",
    "    npop\n",
    "    beta\n",
    "    pc\n",
    "    gamma\n",
    "    mu\n",
    "    sugma\n",
    "end"
   ]
  },
  {
   "cell_type": "code",
   "execution_count": 613,
   "metadata": {},
   "outputs": [
    {
     "data": {
      "text/plain": [
       "exp_array (generic function with 1 method)"
      ]
     },
     "execution_count": 613,
     "metadata": {},
     "output_type": "execute_result"
    }
   ],
   "source": [
    "function exp_array(x)\n",
    "    out = zeros(length(x))\n",
    "    for i in 1:length(x)\n",
    "        out[i] = exp(x[i])\n",
    "    end\n",
    "    return out\n",
    "end"
   ]
  },
  {
   "cell_type": "code",
   "execution_count": 702,
   "metadata": {},
   "outputs": [
    {
     "data": {
      "text/plain": [
       "roulette_wheel_selection (generic function with 1 method)"
      ]
     },
     "execution_count": 702,
     "metadata": {},
     "output_type": "execute_result"
    }
   ],
   "source": [
    "function roulette_wheel_selection(p)\n",
    "    c = cumsum(p, dims = 1)\n",
    "    r = Base.sum(p)*rand()\n",
    "    ind = 0\n",
    "    for i in 1:length(c)\n",
    "        if r <= c[i]\n",
    "            ind = i\n",
    "            break\n",
    "        end\n",
    "    end\n",
    "    return ind\n",
    "end"
   ]
  },
  {
   "cell_type": "code",
   "execution_count": 1057,
   "metadata": {},
   "outputs": [
    {
     "data": {
      "text/plain": [
       "crossover (generic function with 2 methods)"
      ]
     },
     "execution_count": 1057,
     "metadata": {},
     "output_type": "execute_result"
    }
   ],
   "source": [
    "function  crossover(p1, p2, gamma=0.1)\n",
    "    c1 = deepcopy(p1)\n",
    "    c2 = deepcopy(p1)\n",
    "    alpha = rand(length(c1.position))*(1+2*gamma).-gamma\n",
    "    c1 = Individual(alpha.*p1.position + (1 .-alpha).*p2.position, c1.cost)\n",
    "    c2 = Individual(alpha.*p2.position + (1 .-alpha).*p1.position, c2.cost)\n",
    "    return c1, c2\n",
    "end"
   ]
  },
  {
   "cell_type": "code",
   "execution_count": 746,
   "metadata": {},
   "outputs": [
    {
     "data": {
      "text/plain": [
       "mutate (generic function with 1 method)"
      ]
     },
     "execution_count": 746,
     "metadata": {},
     "output_type": "execute_result"
    }
   ],
   "source": [
    "function mutate(x, mu, sugma)\n",
    "    y = deepcopy(x)\n",
    "    ind  = []\n",
    "    for i in 1:length(x.position)\n",
    "        if rand()<= mu\n",
    "            append!(ind,i)\n",
    "        end\n",
    "    end\n",
    "    y.position[ind] += sugma*rand(length(ind))\n",
    "    return y\n",
    "end"
   ]
  },
  {
   "cell_type": "code",
   "execution_count": 801,
   "metadata": {},
   "outputs": [
    {
     "data": {
      "text/plain": [
       "max_v (generic function with 1 method)"
      ]
     },
     "execution_count": 801,
     "metadata": {},
     "output_type": "execute_result"
    }
   ],
   "source": [
    "function max_v(array, max)\n",
    "    for i in 1:length(array)\n",
    "        if array[i] < max[i]\n",
    "            array[i] = max[i]\n",
    "        end\n",
    "    end\n",
    "    return array\n",
    "end"
   ]
  },
  {
   "cell_type": "code",
   "execution_count": 802,
   "metadata": {},
   "outputs": [
    {
     "data": {
      "text/plain": [
       "min_v (generic function with 1 method)"
      ]
     },
     "execution_count": 802,
     "metadata": {},
     "output_type": "execute_result"
    }
   ],
   "source": [
    "function min_v(array, min)\n",
    "    for i in 1:length(array)\n",
    "        if array[i] > min[i]\n",
    "            array[i] = min[i]\n",
    "        end\n",
    "    end\n",
    "    return array\n",
    "end"
   ]
  },
  {
   "cell_type": "code",
   "execution_count": 803,
   "metadata": {},
   "outputs": [
    {
     "data": {
      "text/plain": [
       "apply_bound (generic function with 1 method)"
      ]
     },
     "execution_count": 803,
     "metadata": {},
     "output_type": "execute_result"
    }
   ],
   "source": [
    "function apply_bound(x, varmin, varmax)\n",
    "    x = Individual(max_v(x.position, varmin), x.cost)\n",
    "    x = Individual(min_v(x.position, varmax), x.cost)\n",
    "    return x\n",
    "end"
   ]
  },
  {
   "cell_type": "code",
   "execution_count": 1071,
   "metadata": {},
   "outputs": [
    {
     "data": {
      "text/plain": [
       "sortbycost (generic function with 1 method)"
      ]
     },
     "execution_count": 1071,
     "metadata": {},
     "output_type": "execute_result"
    }
   ],
   "source": [
    "function sortbycost(pop)\n",
    "    for i in 1:length(pop)\n",
    "        for j in 1:length(pop)\n",
    "            if pop[i].cost < pop[j].cost\n",
    "                tmp = pop[j]\n",
    "                pop[j] = pop[i]\n",
    "                pop[i] = tmp\n",
    "            end\n",
    "        end\n",
    "    end\n",
    "    return pop\n",
    "end"
   ]
  },
  {
   "cell_type": "code",
   "execution_count": 1117,
   "metadata": {},
   "outputs": [
    {
     "data": {
      "text/plain": [
       "run (generic function with 1 method)"
      ]
     },
     "execution_count": 1117,
     "metadata": {},
     "output_type": "execute_result"
    }
   ],
   "source": [
    "function run(problem, params)\n",
    "    # Problem Information\n",
    "    costfunc = problem.costfunc\n",
    "    nvar = problem.nvar\n",
    "    varmin = problem.varmin\n",
    "    varmax = problem.varmax\n",
    "\n",
    "    # Parameters\n",
    "    maxit = params.maxit\n",
    "    npop = params.npop\n",
    "    beta = params.beta\n",
    "    pc = params.pc\n",
    "    nc = Int(floor(pc*npop/2)*2)\n",
    "    gamma = params.gamma\n",
    "    mu = params.mu\n",
    "    sugma = params.sugma\n",
    "    \n",
    "    # Empty Individual Template\n",
    "    empty_individual = Individual(Cvoid,Cvoid)\n",
    "    bestsol = deepcopy(empty_individual)\n",
    "    # bestsol.cost = Inf\n",
    "    bestsol = Individual(bestsol.position, Inf)\n",
    "    \n",
    "    # Initialize Population\n",
    "    pop=[]\n",
    "    for i in 1:npop\n",
    "       push!(pop,empty_individual)\n",
    "    end\n",
    "    for i in 1:npop\n",
    "        pos = rand(nvar).*(varmax-varmin).+varmin\n",
    "        costc = costfunc(pos)\n",
    "        pop[i] = Individual(pos, costc)\n",
    "        if pop[i].cost < bestsol.cost\n",
    "            bestsol = deepcopy(pop[i])\n",
    "        end\n",
    "    end\n",
    "    \n",
    "    # Best Cost of Iterations \n",
    "    bestcost = zeros(maxit)\n",
    "    \n",
    "    # Main Loop\n",
    "    for it in 1:maxit\n",
    "        costs = []\n",
    "        for i in 1:length(pop)\n",
    "            append!(costs, pop[i].cost)\n",
    "        end\n",
    "        avg_cost = mean(costs)\n",
    "        if avg_cost != 0\n",
    "            costs = costs ./avg_cost\n",
    "        end\n",
    "        probs = exp_array(-beta.*costs)\n",
    "        \n",
    "        popc = []\n",
    "        for _ in 1:floor(nc/2)\n",
    "            # Perform Roulette Wheel Selection\n",
    "            p1 = pop[roulette_wheel_selection(probs)]\n",
    "            p2 = pop[roulette_wheel_selection(probs)]\n",
    "            \n",
    "            # Perform Crossover\n",
    "            c1, c2 = crossover(p1, p2, gamma)\n",
    "            \n",
    "            # Perform Mutation\n",
    "            c1 = mutate(c1, mu, sugma)\n",
    "            c2 = mutate(c2, mu, sugma)\n",
    "            \n",
    "            # Apply Bounds\n",
    "            c1 = apply_bound(c1, varmin, varmax)\n",
    "            c2 = apply_bound(c2, varmin, varmax)\n",
    "#             println(\"c1 = \",c1.position)\n",
    "#             println(\"c2 = \",c2.position)\n",
    "            \n",
    "            # Evaluate First Offspring\n",
    "            c1 = Individual(c1.position, costfunc(c1.position))\n",
    "            if c1.cost < bestsol.cost\n",
    "                bestsol = deepcopy(c1)\n",
    "            end\n",
    "\n",
    "            # Evaluate Second Offspring\n",
    "            c2 = Individual(c2.position, costfunc(c2.position))\n",
    "            if c2.cost < bestsol.cost\n",
    "                bestsol = deepcopy(c2)\n",
    "            end\n",
    "            \n",
    "            # Add Offsprings to popc\n",
    "            push!(popc,c1)\n",
    "            push!(popc,c2)\n",
    "        end\n",
    "                \n",
    "        # Merge, Sort and Select 87\n",
    "        for i in 1:length(popc)\n",
    "            push!(pop,popc[i])\n",
    "        end\n",
    "        pop = sortbycost(pop)\n",
    "        pop = deepcopy(pop[1:npop])\n",
    "\n",
    "        # Store Best Cost\n",
    "        bestcost[it] = bestsol.cost\n",
    "\n",
    "        # Show Iteration Information\n",
    "        println(\"Iteration \"*string(it)*\": Best Cost = \"*string(bestcost[it]))\n",
    "    end\n",
    "    # Output\n",
    "    # out = Output(pop,bestsol,bestcost)\n",
    "    return bestsol\n",
    "end"
   ]
  },
  {
   "cell_type": "code",
   "execution_count": 1114,
   "metadata": {},
   "outputs": [
    {
     "data": {
      "text/plain": [
       "sphere (generic function with 1 method)"
      ]
     },
     "execution_count": 1114,
     "metadata": {},
     "output_type": "execute_result"
    }
   ],
   "source": [
    "function sphere(x)\n",
    "    return Base.sum(x.^2)\n",
    "end"
   ]
  },
  {
   "cell_type": "code",
   "execution_count": 1115,
   "metadata": {},
   "outputs": [
    {
     "data": {
      "text/plain": [
       "Parameter(100, 50, 1, 1, 0.1, 0.01, 0.1)"
      ]
     },
     "execution_count": 1115,
     "metadata": {},
     "output_type": "execute_result"
    }
   ],
   "source": [
    "problem = Problem(sphere, 5, [-10, -10, -1, -5,  4],[ 10,  10,  1,  5, 10])\n",
    "params  = Parameter(100, 50, 1, 1, 0.1, 0.01, 0.1)"
   ]
  },
  {
   "cell_type": "code",
   "execution_count": 1124,
   "metadata": {},
   "outputs": [
    {
     "name": "stdout",
     "output_type": "stream",
     "text": [
      "Iteration 1: Best Cost = 25.045836853443284\n",
      "Iteration 2: Best Cost = 25.045836853443284\n",
      "Iteration 3: Best Cost = 18.629461898575347\n",
      "Iteration 4: Best Cost = 18.629461898575347\n",
      "Iteration 5: Best Cost = 18.07909919773151\n",
      "Iteration 6: Best Cost = 17.80656736823865\n",
      "Iteration 7: Best Cost = 17.058058368177555\n",
      "Iteration 8: Best Cost = 16.328009701190677\n",
      "Iteration 9: Best Cost = 16.328009701190677\n",
      "Iteration 10: Best Cost = 16.328009701190677\n",
      "Iteration 11: Best Cost = 16.328009701190677\n",
      "Iteration 12: Best Cost = 16.328009701190677\n",
      "Iteration 13: Best Cost = 16.31276663746324\n",
      "Iteration 14: Best Cost = 16.294048522608495\n",
      "Iteration 15: Best Cost = 16.29314468628126\n",
      "Iteration 16: Best Cost = 16.269735445600677\n",
      "Iteration 17: Best Cost = 16.246712458329842\n",
      "Iteration 18: Best Cost = 16.240419217225323\n",
      "Iteration 19: Best Cost = 16.234063160293324\n",
      "Iteration 20: Best Cost = 16.221557145544008\n",
      "Iteration 21: Best Cost = 16.221557145544008\n",
      "Iteration 22: Best Cost = 16.221557145544008\n",
      "Iteration 23: Best Cost = 16.22058391606344\n",
      "Iteration 24: Best Cost = 16.21973977986136\n",
      "Iteration 25: Best Cost = 16.216979880919887\n",
      "Iteration 26: Best Cost = 16.214435496204263\n",
      "Iteration 27: Best Cost = 16.212532264505487\n",
      "Iteration 28: Best Cost = 16.212532264505487\n",
      "Iteration 29: Best Cost = 16.212532264505487\n",
      "Iteration 30: Best Cost = 16.208888919065565\n",
      "Iteration 31: Best Cost = 16.208888919065565\n",
      "Iteration 32: Best Cost = 16.208342024085624\n",
      "Iteration 33: Best Cost = 16.207967586540946\n",
      "Iteration 34: Best Cost = 16.2070115602479\n",
      "Iteration 35: Best Cost = 16.20649872465755\n",
      "Iteration 36: Best Cost = 16.20649872465755\n",
      "Iteration 37: Best Cost = 16.20649872465755\n",
      "Iteration 38: Best Cost = 16.20649872465755\n",
      "Iteration 39: Best Cost = 16.20649872465755\n",
      "Iteration 40: Best Cost = 16.20649872465755\n",
      "Iteration 41: Best Cost = 16.206193193569177\n",
      "Iteration 42: Best Cost = 16.206193193569177\n",
      "Iteration 43: Best Cost = 16.206193193569177\n",
      "Iteration 44: Best Cost = 16.20619003620685\n",
      "Iteration 45: Best Cost = 16.20611028292095\n",
      "Iteration 46: Best Cost = 16.206034368657992\n",
      "Iteration 47: Best Cost = 16.206034368657992\n",
      "Iteration 48: Best Cost = 16.205973626396847\n",
      "Iteration 49: Best Cost = 16.20595595047618\n",
      "Iteration 50: Best Cost = 16.20595595047618\n",
      "Iteration 51: Best Cost = 16.20595595047618\n",
      "Iteration 52: Best Cost = 16.205813209551074\n",
      "Iteration 53: Best Cost = 16.205766832712243\n",
      "Iteration 54: Best Cost = 16.205766832712243\n",
      "Iteration 55: Best Cost = 16.20573060588381\n",
      "Iteration 56: Best Cost = 16.205725085611984\n",
      "Iteration 57: Best Cost = 16.205655348632224\n",
      "Iteration 58: Best Cost = 16.205655348632224\n",
      "Iteration 59: Best Cost = 16.205655348632224\n",
      "Iteration 60: Best Cost = 16.20564022069324\n",
      "Iteration 61: Best Cost = 16.20563619580541\n",
      "Iteration 62: Best Cost = 16.20563619580541\n",
      "Iteration 63: Best Cost = 16.20563108178306\n",
      "Iteration 64: Best Cost = 16.20563108178306\n",
      "Iteration 65: Best Cost = 16.20563108178306\n",
      "Iteration 66: Best Cost = 16.20562829631826\n",
      "Iteration 67: Best Cost = 16.205627660581857\n",
      "Iteration 68: Best Cost = 16.205627660581857\n",
      "Iteration 69: Best Cost = 16.205627327965818\n",
      "Iteration 70: Best Cost = 16.205627327965818\n",
      "Iteration 71: Best Cost = 16.205626100379025\n",
      "Iteration 72: Best Cost = 16.205624956837884\n",
      "Iteration 73: Best Cost = 16.20562342439901\n",
      "Iteration 74: Best Cost = 16.20562141033761\n",
      "Iteration 75: Best Cost = 16.20562141033761\n",
      "Iteration 76: Best Cost = 16.205619080796257\n",
      "Iteration 77: Best Cost = 16.205619080796257\n",
      "Iteration 78: Best Cost = 16.205619080796257\n",
      "Iteration 79: Best Cost = 16.205618705393157\n",
      "Iteration 80: Best Cost = 16.205618705393157\n",
      "Iteration 81: Best Cost = 16.20561698376132\n",
      "Iteration 82: Best Cost = 16.20561698376132\n",
      "Iteration 83: Best Cost = 16.20561646321539\n",
      "Iteration 84: Best Cost = 16.20561646321539\n",
      "Iteration 85: Best Cost = 16.205615899965494\n",
      "Iteration 86: Best Cost = 16.205615650884138\n",
      "Iteration 87: Best Cost = 16.205615495343604\n",
      "Iteration 88: Best Cost = 16.205615002504256\n",
      "Iteration 89: Best Cost = 16.205615002504256\n",
      "Iteration 90: Best Cost = 16.205614811949513\n",
      "Iteration 91: Best Cost = 16.205614811949513\n",
      "Iteration 92: Best Cost = 16.205584278837073\n",
      "Iteration 93: Best Cost = 16.205584278837073\n",
      "Iteration 94: Best Cost = 16.205584278837073\n",
      "Iteration 95: Best Cost = 16.205583032306926\n",
      "Iteration 96: Best Cost = 16.20558042375278\n",
      "Iteration 97: Best Cost = 16.20558042375278\n",
      "Iteration 98: Best Cost = 16.20558011321253\n",
      "Iteration 99: Best Cost = 16.20558009497837\n",
      "Iteration 100: Best Cost = 16.20558009497837\n"
     ]
    },
    {
     "data": {
      "text/plain": [
       "Individual([0.022234397900655293, 0.06904390655228099, -0.00044208516722147765, 5.750383747505093e-5, 4.0249619211553265], 16.20558009497837)"
      ]
     },
     "execution_count": 1124,
     "metadata": {},
     "output_type": "execute_result"
    }
   ],
   "source": [
    "out = run(problem, params)"
   ]
  },
  {
   "cell_type": "code",
   "execution_count": 1103,
   "metadata": {},
   "outputs": [
    {
     "data": {
      "text/plain": [
       "17.058692677639076"
      ]
     },
     "execution_count": 1103,
     "metadata": {},
     "output_type": "execute_result"
    }
   ],
   "source": [
    "out.cost"
   ]
  },
  {
   "cell_type": "code",
   "execution_count": null,
   "metadata": {},
   "outputs": [],
   "source": []
  }
 ],
 "metadata": {
  "kernelspec": {
   "display_name": "Julia 1.4.1",
   "language": "julia",
   "name": "julia-1.4"
  },
  "language_info": {
   "file_extension": ".jl",
   "mimetype": "application/julia",
   "name": "julia",
   "version": "1.4.1"
  }
 },
 "nbformat": 4,
 "nbformat_minor": 4
}
