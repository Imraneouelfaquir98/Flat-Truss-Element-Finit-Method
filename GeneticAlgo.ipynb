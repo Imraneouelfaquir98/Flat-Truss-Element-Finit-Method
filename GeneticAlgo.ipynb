{
 "cells": [
  {
   "cell_type": "code",
   "execution_count": 18,
   "metadata": {},
   "outputs": [],
   "source": [
    "using Statistics\n",
    "import Base\n",
    "using StaticArrays;"
   ]
  },
  {
   "cell_type": "code",
   "execution_count": 2,
   "metadata": {},
   "outputs": [],
   "source": [
    "struct Individual\n",
    "    position\n",
    "    cost\n",
    "end"
   ]
  },
  {
   "cell_type": "code",
   "execution_count": 3,
   "metadata": {},
   "outputs": [],
   "source": [
    "struct Output\n",
    "    pop\n",
    "    bestsol\n",
    "    bestcost\n",
    "end"
   ]
  },
  {
   "cell_type": "code",
   "execution_count": 4,
   "metadata": {},
   "outputs": [],
   "source": [
    "struct Problem\n",
    "    costfunc\n",
    "    nvar\n",
    "    varmin\n",
    "    varmax\n",
    "end"
   ]
  },
  {
   "cell_type": "code",
   "execution_count": 5,
   "metadata": {},
   "outputs": [],
   "source": [
    "struct Parameter\n",
    "    maxit\n",
    "    npop\n",
    "    beta\n",
    "    pc\n",
    "    gamma\n",
    "    mu\n",
    "    sugma\n",
    "end"
   ]
  },
  {
   "cell_type": "code",
   "execution_count": 6,
   "metadata": {},
   "outputs": [
    {
     "data": {
      "text/plain": [
       "exp_array (generic function with 1 method)"
      ]
     },
     "execution_count": 6,
     "metadata": {},
     "output_type": "execute_result"
    }
   ],
   "source": [
    "function exp_array(x)\n",
    "    out = zeros(length(x))\n",
    "    for i in 1:length(x)\n",
    "        out[i] = exp(x[i])\n",
    "    end\n",
    "    return out\n",
    "end"
   ]
  },
  {
   "cell_type": "code",
   "execution_count": 7,
   "metadata": {},
   "outputs": [
    {
     "data": {
      "text/plain": [
       "roulette_wheel_selection (generic function with 1 method)"
      ]
     },
     "execution_count": 7,
     "metadata": {},
     "output_type": "execute_result"
    }
   ],
   "source": [
    "function roulette_wheel_selection(p)\n",
    "    c = cumsum(p, dims = 1)\n",
    "    r = Base.sum(p)*rand()\n",
    "    ind = 0\n",
    "    for i in 1:length(c)\n",
    "        if r <= c[i]\n",
    "            ind = i\n",
    "            break\n",
    "        end\n",
    "    end\n",
    "    return ind\n",
    "end"
   ]
  },
  {
   "cell_type": "code",
   "execution_count": 8,
   "metadata": {},
   "outputs": [
    {
     "data": {
      "text/plain": [
       "crossover (generic function with 2 methods)"
      ]
     },
     "execution_count": 8,
     "metadata": {},
     "output_type": "execute_result"
    }
   ],
   "source": [
    "function  crossover(p1, p2, gamma=0.1)\n",
    "    c1 = deepcopy(p1)\n",
    "    c2 = deepcopy(p1)\n",
    "    alpha = rand(length(c1.position))*(1+2*gamma).-gamma\n",
    "    c1 = Individual(alpha.*p1.position + (1 .-alpha).*p2.position, c1.cost)\n",
    "    c2 = Individual(alpha.*p2.position + (1 .-alpha).*p1.position, c2.cost)\n",
    "    return c1, c2\n",
    "end"
   ]
  },
  {
   "cell_type": "code",
   "execution_count": 9,
   "metadata": {},
   "outputs": [
    {
     "data": {
      "text/plain": [
       "mutate (generic function with 1 method)"
      ]
     },
     "execution_count": 9,
     "metadata": {},
     "output_type": "execute_result"
    }
   ],
   "source": [
    "function mutate(x, mu, sugma)\n",
    "    y = deepcopy(x)\n",
    "    ind  = []\n",
    "    for i in 1:length(x.position)\n",
    "        if rand()<= mu\n",
    "            append!(ind,i)\n",
    "        end\n",
    "    end\n",
    "    y.position[ind] += sugma*rand(length(ind))\n",
    "    return y\n",
    "end"
   ]
  },
  {
   "cell_type": "code",
   "execution_count": 10,
   "metadata": {},
   "outputs": [
    {
     "data": {
      "text/plain": [
       "max_v (generic function with 1 method)"
      ]
     },
     "execution_count": 10,
     "metadata": {},
     "output_type": "execute_result"
    }
   ],
   "source": [
    "function max_v(array, max)\n",
    "    for i in 1:length(array)\n",
    "        if array[i] < max[i]\n",
    "            array[i] = max[i]\n",
    "        end\n",
    "    end\n",
    "    return array\n",
    "end"
   ]
  },
  {
   "cell_type": "code",
   "execution_count": 11,
   "metadata": {},
   "outputs": [
    {
     "data": {
      "text/plain": [
       "min_v (generic function with 1 method)"
      ]
     },
     "execution_count": 11,
     "metadata": {},
     "output_type": "execute_result"
    }
   ],
   "source": [
    "function min_v(array, min)\n",
    "    for i in 1:length(array)\n",
    "        if array[i] > min[i]\n",
    "            array[i] = min[i]\n",
    "        end\n",
    "    end\n",
    "    return array\n",
    "end"
   ]
  },
  {
   "cell_type": "code",
   "execution_count": 12,
   "metadata": {},
   "outputs": [
    {
     "data": {
      "text/plain": [
       "apply_bound (generic function with 1 method)"
      ]
     },
     "execution_count": 12,
     "metadata": {},
     "output_type": "execute_result"
    }
   ],
   "source": [
    "function apply_bound(x, varmin, varmax)\n",
    "    x = Individual(max_v(x.position, varmin), x.cost)\n",
    "    x = Individual(min_v(x.position, varmax), x.cost)\n",
    "    return x\n",
    "end"
   ]
  },
  {
   "cell_type": "code",
   "execution_count": 13,
   "metadata": {},
   "outputs": [
    {
     "data": {
      "text/plain": [
       "sortbycost (generic function with 1 method)"
      ]
     },
     "execution_count": 13,
     "metadata": {},
     "output_type": "execute_result"
    }
   ],
   "source": [
    "function sortbycost(pop)\n",
    "    for i in 1:length(pop)\n",
    "        for j in 1:length(pop)\n",
    "            if pop[i].cost < pop[j].cost\n",
    "                tmp = pop[j]\n",
    "                pop[j] = pop[i]\n",
    "                pop[i] = tmp\n",
    "            end\n",
    "        end\n",
    "    end\n",
    "    return pop\n",
    "end"
   ]
  },
  {
   "cell_type": "code",
   "execution_count": 14,
   "metadata": {},
   "outputs": [
    {
     "data": {
      "text/plain": [
       "run (generic function with 1 method)"
      ]
     },
     "execution_count": 14,
     "metadata": {},
     "output_type": "execute_result"
    }
   ],
   "source": [
    "function run(problem, params)\n",
    "    # Problem Information\n",
    "    costfunc = problem.costfunc\n",
    "    nvar = problem.nvar\n",
    "    varmin = problem.varmin\n",
    "    varmax = problem.varmax\n",
    "\n",
    "    # Parameters\n",
    "    maxit = params.maxit\n",
    "    npop = params.npop\n",
    "    beta = params.beta\n",
    "    pc = params.pc\n",
    "    nc = Int(floor(pc*npop/2)*2)\n",
    "    gamma = params.gamma\n",
    "    mu = params.mu\n",
    "    sugma = params.sugma\n",
    "    \n",
    "    # Empty Individual Template\n",
    "    empty_individual = Individual(Cvoid,Cvoid)\n",
    "    bestsol = deepcopy(empty_individual)\n",
    "    # bestsol.cost = Inf\n",
    "    bestsol = Individual(bestsol.position, Inf)\n",
    "    \n",
    "    # Initialize Population\n",
    "    pop=[]\n",
    "    for i in 1:npop\n",
    "       push!(pop,empty_individual)\n",
    "    end\n",
    "    for i in 1:npop\n",
    "        pos = rand(nvar).*(varmax-varmin).+varmin\n",
    "        costc = costfunc(pos)\n",
    "        pop[i] = Individual(pos, costc)\n",
    "        if pop[i].cost < bestsol.cost\n",
    "            bestsol = deepcopy(pop[i])\n",
    "        end\n",
    "    end\n",
    "    \n",
    "    # Best Cost of Iterations \n",
    "    bestcost = zeros(maxit)\n",
    "    \n",
    "    # Main Loop\n",
    "    for it in 1:maxit\n",
    "        costs = []\n",
    "        for i in 1:length(pop)\n",
    "            append!(costs, pop[i].cost)\n",
    "        end\n",
    "        avg_cost = mean(costs)\n",
    "        if avg_cost != 0\n",
    "            costs = costs ./avg_cost\n",
    "        end\n",
    "        probs = exp_array(-beta.*costs)\n",
    "        \n",
    "        popc = []\n",
    "        for _ in 1:floor(nc/2)\n",
    "            # Perform Roulette Wheel Selection\n",
    "            p1 = pop[roulette_wheel_selection(probs)]\n",
    "            p2 = pop[roulette_wheel_selection(probs)]\n",
    "            \n",
    "            # Perform Crossover\n",
    "            c1, c2 = crossover(p1, p2, gamma)\n",
    "            \n",
    "            # Perform Mutation\n",
    "            c1 = mutate(c1, mu, sugma)\n",
    "            c2 = mutate(c2, mu, sugma)\n",
    "            \n",
    "            # Apply Bounds\n",
    "            c1 = apply_bound(c1, varmin, varmax)\n",
    "            c2 = apply_bound(c2, varmin, varmax)\n",
    "            ## println(\"c1 = \",c1.position)\n",
    "            ## println(\"c2 = \",c2.position)\n",
    "            \n",
    "            # Evaluate First Offspring\n",
    "            c1 = Individual(c1.position, costfunc(c1.position))\n",
    "            if c1.cost < bestsol.cost\n",
    "                bestsol = deepcopy(c1)\n",
    "            end\n",
    "\n",
    "            # Evaluate Second Offspring\n",
    "            c2 = Individual(c2.position, costfunc(c2.position))\n",
    "            if c2.cost < bestsol.cost\n",
    "                bestsol = deepcopy(c2)\n",
    "            end\n",
    "            \n",
    "            # Add Offsprings to popc\n",
    "            push!(popc,c1)\n",
    "            push!(popc,c2)\n",
    "        end\n",
    "                \n",
    "        # Merge, Sort and Select 87\n",
    "        for i in 1:length(popc)\n",
    "            push!(pop,popc[i])\n",
    "        end\n",
    "        pop = sortbycost(pop)\n",
    "        pop = deepcopy(pop[1:npop])\n",
    "\n",
    "        # Store Best Cost\n",
    "        bestcost[it] = bestsol.cost\n",
    "\n",
    "        # Show Iteration Information\n",
    "        println(\"Iteration \"*string(it)*\": Best Cost = \"*string(bestcost[it]))\n",
    "    end\n",
    "    # Output\n",
    "    # out = Output(pop,bestsol,bestcost)\n",
    "    return bestsol\n",
    "end"
   ]
  },
  {
   "cell_type": "code",
   "execution_count": 15,
   "metadata": {},
   "outputs": [
    {
     "data": {
      "text/plain": [
       "sphere (generic function with 1 method)"
      ]
     },
     "execution_count": 15,
     "metadata": {},
     "output_type": "execute_result"
    }
   ],
   "source": [
    "function sphere(x)\n",
    "    return Base.sum(x.^2)\n",
    "end"
   ]
  },
  {
   "cell_type": "code",
   "execution_count": 16,
   "metadata": {},
   "outputs": [
    {
     "data": {
      "text/plain": [
       "Parameter(100, 50, 1, 1, 0.1, 0.01, 0.1)"
      ]
     },
     "execution_count": 16,
     "metadata": {},
     "output_type": "execute_result"
    }
   ],
   "source": [
    "problem = Problem(sphere, 5, [-10, -10, -1, -5,  4],[ 10,  10,  1,  5, 10])\n",
    "params  = Parameter(100, 50, 1, 1, 0.1, 0.01, 0.1)"
   ]
  },
  {
   "cell_type": "code",
   "execution_count": 19,
   "metadata": {},
   "outputs": [
    {
     "name": "stdout",
     "output_type": "stream",
     "text": [
      "Iteration 1: Best Cost = 23.906636395102534\n",
      "Iteration 2: Best Cost = 21.724604159829486\n",
      "Iteration 3: Best Cost = 19.849148329796655\n",
      "Iteration 4: Best Cost = 19.66988909834696\n",
      "Iteration 5: Best Cost = 17.95985745935794\n",
      "Iteration 6: Best Cost = 17.95985745935794\n",
      "Iteration 7: Best Cost = 17.95985745935794\n",
      "Iteration 8: Best Cost = 17.95985745935794\n",
      "Iteration 9: Best Cost = 17.684283005879376\n",
      "Iteration 10: Best Cost = 17.658806714737317\n",
      "Iteration 11: Best Cost = 17.58797576449888\n",
      "Iteration 12: Best Cost = 17.58797576449888\n",
      "Iteration 13: Best Cost = 17.58797576449888\n",
      "Iteration 14: Best Cost = 17.578618798245152\n",
      "Iteration 15: Best Cost = 17.536491654610717\n",
      "Iteration 16: Best Cost = 17.52923099763993\n",
      "Iteration 17: Best Cost = 17.528302166696697\n",
      "Iteration 18: Best Cost = 17.510912716696136\n",
      "Iteration 19: Best Cost = 17.510912716696136\n",
      "Iteration 20: Best Cost = 17.510912716696136\n",
      "Iteration 21: Best Cost = 17.510912716696136\n",
      "Iteration 22: Best Cost = 17.510912716696136\n",
      "Iteration 23: Best Cost = 17.510912716696136\n",
      "Iteration 24: Best Cost = 17.510912716696136\n",
      "Iteration 25: Best Cost = 17.50609308909281\n",
      "Iteration 26: Best Cost = 17.50609308909281\n",
      "Iteration 27: Best Cost = 17.50609308909281\n",
      "Iteration 28: Best Cost = 17.504782570464492\n",
      "Iteration 29: Best Cost = 17.503797323271037\n",
      "Iteration 30: Best Cost = 17.50316668782225\n",
      "Iteration 31: Best Cost = 17.50283593415142\n",
      "Iteration 32: Best Cost = 17.50254407861438\n",
      "Iteration 33: Best Cost = 17.501499016944777\n",
      "Iteration 34: Best Cost = 17.50069672499973\n",
      "Iteration 35: Best Cost = 17.500054581856045\n",
      "Iteration 36: Best Cost = 17.500054581856045\n",
      "Iteration 37: Best Cost = 17.49996363245652\n",
      "Iteration 38: Best Cost = 17.49884478876775\n",
      "Iteration 39: Best Cost = 17.49884478876775\n",
      "Iteration 40: Best Cost = 17.49884478876775\n",
      "Iteration 41: Best Cost = 17.49884478876775\n",
      "Iteration 42: Best Cost = 17.49884478876775\n",
      "Iteration 43: Best Cost = 17.49877129268093\n",
      "Iteration 44: Best Cost = 17.49877129268093\n",
      "Iteration 45: Best Cost = 17.49877129268093\n",
      "Iteration 46: Best Cost = 17.49877129268093\n",
      "Iteration 47: Best Cost = 17.498724637019933\n",
      "Iteration 48: Best Cost = 17.498645705497264\n",
      "Iteration 49: Best Cost = 17.498645705497264\n",
      "Iteration 50: Best Cost = 17.498645705497264\n",
      "Iteration 51: Best Cost = 17.498630992843857\n",
      "Iteration 52: Best Cost = 17.498606075236417\n",
      "Iteration 53: Best Cost = 17.49857704589346\n",
      "Iteration 54: Best Cost = 17.498574662012174\n",
      "Iteration 55: Best Cost = 17.4983146697205\n",
      "Iteration 56: Best Cost = 17.498281278239965\n",
      "Iteration 57: Best Cost = 17.498281278239965\n",
      "Iteration 58: Best Cost = 17.49826754025845\n",
      "Iteration 59: Best Cost = 17.49826754025845\n",
      "Iteration 60: Best Cost = 17.498261645718976\n",
      "Iteration 61: Best Cost = 17.498261097428188\n",
      "Iteration 62: Best Cost = 17.498258738627186\n",
      "Iteration 63: Best Cost = 17.49825470627307\n",
      "Iteration 64: Best Cost = 17.498248482460834\n",
      "Iteration 65: Best Cost = 17.498248482460834\n",
      "Iteration 66: Best Cost = 17.4982433484132\n",
      "Iteration 67: Best Cost = 17.4982433484132\n",
      "Iteration 68: Best Cost = 17.49824228236251\n",
      "Iteration 69: Best Cost = 17.498238730618766\n",
      "Iteration 70: Best Cost = 17.498238730618766\n",
      "Iteration 71: Best Cost = 17.498238730618766\n",
      "Iteration 72: Best Cost = 17.498238730618766\n",
      "Iteration 73: Best Cost = 17.498238730618766\n",
      "Iteration 74: Best Cost = 17.49823851851981\n",
      "Iteration 75: Best Cost = 17.49823851851981\n",
      "Iteration 76: Best Cost = 17.49823851851981\n",
      "Iteration 77: Best Cost = 17.498238087594356\n",
      "Iteration 78: Best Cost = 17.498237974128987\n",
      "Iteration 79: Best Cost = 17.498237183753787\n",
      "Iteration 80: Best Cost = 17.498237183753787\n",
      "Iteration 81: Best Cost = 17.498236547731914\n",
      "Iteration 82: Best Cost = 17.49823619410082\n",
      "Iteration 83: Best Cost = 17.49823619410082\n",
      "Iteration 84: Best Cost = 17.49823619410082\n",
      "Iteration 85: Best Cost = 17.49823619410082\n",
      "Iteration 86: Best Cost = 17.498235968395967\n",
      "Iteration 87: Best Cost = 17.498235968395967\n",
      "Iteration 88: Best Cost = 17.498235849924082\n",
      "Iteration 89: Best Cost = 17.49823583820305\n",
      "Iteration 90: Best Cost = 17.498235722787747\n",
      "Iteration 91: Best Cost = 17.498235706038866\n",
      "Iteration 92: Best Cost = 17.498235653859457\n",
      "Iteration 93: Best Cost = 17.49823551115141\n",
      "Iteration 94: Best Cost = 17.49823551115141\n",
      "Iteration 95: Best Cost = 17.498235300931984\n",
      "Iteration 96: Best Cost = 17.498235300931984\n",
      "Iteration 97: Best Cost = 17.498235300931984\n",
      "Iteration 98: Best Cost = 17.498235300931984\n",
      "Iteration 99: Best Cost = 17.498235300931984\n",
      "Iteration 100: Best Cost = 17.498235246911044\n"
     ]
    },
    {
     "data": {
      "text/plain": [
       "Individual([0.0006616313926040111, 0.0017420017447042175, 0.07260405267940546, 0.0019244195408969489, 4.182458215299804], 17.498235246911044)"
      ]
     },
     "execution_count": 19,
     "metadata": {},
     "output_type": "execute_result"
    }
   ],
   "source": [
    "out = run(problem, params)"
   ]
  },
  {
   "cell_type": "code",
   "execution_count": 1103,
   "metadata": {},
   "outputs": [
    {
     "data": {
      "text/plain": [
       "17.058692677639076"
      ]
     },
     "execution_count": 1103,
     "metadata": {},
     "output_type": "execute_result"
    }
   ],
   "source": [
    "out.cost"
   ]
  },
  {
   "cell_type": "code",
   "execution_count": null,
   "metadata": {},
   "outputs": [],
   "source": []
  }
 ],
 "metadata": {
  "kernelspec": {
   "display_name": "Julia 1.4.1",
   "language": "julia",
   "name": "julia-1.4"
  },
  "language_info": {
   "file_extension": ".jl",
   "mimetype": "application/julia",
   "name": "julia",
   "version": "1.4.1"
  }
 },
 "nbformat": 4,
 "nbformat_minor": 4
}
