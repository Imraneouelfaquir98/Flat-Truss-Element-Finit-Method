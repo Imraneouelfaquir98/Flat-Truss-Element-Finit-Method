{
 "cells": [
  {
   "cell_type": "code",
   "execution_count": 1,
   "metadata": {},
   "outputs": [],
   "source": [
    "import numpy as np\n",
    "import pandas as pd\n",
    "import matplotlib.pyplot as plt"
   ]
  },
  {
   "cell_type": "markdown",
   "metadata": {},
   "source": [
    "# Plotting the structure of the bars"
   ]
  },
  {
   "cell_type": "code",
   "execution_count": 2,
   "metadata": {},
   "outputs": [],
   "source": [
    "def plot_struct(struct):\n",
    "    fig, ax = plt.subplots()\n",
    "    # Plotting nodes\n",
    "    for i in range(len(struct)):\n",
    "        ax.scatter(struct.loc[i][0], struct.loc[i][1], color='#000000', linewidths = 16)\n",
    "    # Plotting bars\n",
    "    for k in range(len(struct)):\n",
    "        for i in range(len(struct)):\n",
    "            if struct.loc[k][i+2] == 1:\n",
    "                plt.plot([struct.loc[i][0], struct.loc[k][0]], [struct.loc[i][1], struct.loc[k][1]],color='b', linewidth=8)"
   ]
  },
  {
   "cell_type": "code",
   "execution_count": 5,
   "metadata": {},
   "outputs": [
    {
     "data": {
      "image/png": "[encoded data removed]",
      "text/plain": [
       "<Figure size 432x288 with 1 Axes>"
      ]
     },
     "metadata": {
      "needs_background": "light"
     },
     "output_type": "display_data"
    }
   ],
   "source": [
    "structure = pd.read_csv(\"data3.csv\")\n",
    "plot_struct(structure)"
   ]
  },
  {
   "cell_type": "code",
   "execution_count": 6,
   "metadata": {},
   "outputs": [
    {
     "data": {
      "text/html": [
       "<div>\n",
       "<style scoped>\n",
       "    .dataframe tbody tr th:only-of-type {\n",
       "        vertical-align: middle;\n",
       "    }\n",
       "\n",
       "    .dataframe tbody tr th {\n",
       "        vertical-align: top;\n",
       "    }\n",
       "\n",
       "    .dataframe thead th {\n",
       "        text-align: right;\n",
       "    }\n",
       "</style>\n",
       "<table border=\"1\" class=\"dataframe\">\n",
       "  <thead>\n",
       "    <tr style=\"text-align: right;\">\n",
       "      <th></th>\n",
       "      <th>x</th>\n",
       "      <th>y</th>\n",
       "      <th>n1</th>\n",
       "      <th>n2</th>\n",
       "      <th>n3</th>\n",
       "      <th>ddl</th>\n",
       "      <th>Px</th>\n",
       "      <th>Py</th>\n",
       "    </tr>\n",
       "  </thead>\n",
       "  <tbody>\n",
       "    <tr>\n",
       "      <th>0</th>\n",
       "      <td>0.0</td>\n",
       "      <td>0.2</td>\n",
       "      <td>0</td>\n",
       "      <td>1</td>\n",
       "      <td>1</td>\n",
       "      <td>3</td>\n",
       "      <td>0</td>\n",
       "      <td>0</td>\n",
       "    </tr>\n",
       "    <tr>\n",
       "      <th>1</th>\n",
       "      <td>0.2</td>\n",
       "      <td>0.0</td>\n",
       "      <td>1</td>\n",
       "      <td>0</td>\n",
       "      <td>1</td>\n",
       "      <td>0</td>\n",
       "      <td>0</td>\n",
       "      <td>-10000</td>\n",
       "    </tr>\n",
       "    <tr>\n",
       "      <th>2</th>\n",
       "      <td>0.0</td>\n",
       "      <td>-0.2</td>\n",
       "      <td>1</td>\n",
       "      <td>1</td>\n",
       "      <td>0</td>\n",
       "      <td>1</td>\n",
       "      <td>0</td>\n",
       "      <td>0</td>\n",
       "    </tr>\n",
       "  </tbody>\n",
       "</table>\n",
       "</div>"
      ],
      "text/plain": [
       "     x    y  n1  n2  n3  ddl  Px     Py\n",
       "0  0.0  0.2   0   1   1    3   0      0\n",
       "1  0.2  0.0   1   0   1    0   0 -10000\n",
       "2  0.0 -0.2   1   1   0    1   0      0"
      ]
     },
     "execution_count": 6,
     "metadata": {},
     "output_type": "execute_result"
    }
   ],
   "source": [
    "structure"
   ]
  },
  {
   "cell_type": "markdown",
   "metadata": {},
   "source": [
    "Assemblage et calcul des déplacements inconnus"
   ]
  },
  {
   "cell_type": "code",
   "execution_count": 7,
   "metadata": {},
   "outputs": [],
   "source": [
    "def ddl_vect(struct):\n",
    "    nbr_ddl = 1\n",
    "    v_ddl = np.array([0 for i in range(len(struct)*2)])\n",
    "    for i in range(len(struct)):\n",
    "        if struct['ddl'][i] == 0:\n",
    "            v_ddl[2*i:2*i+2] = [nbr_ddl,nbr_ddl+1] \n",
    "            nbr_ddl = nbr_ddl+2\n",
    "        elif struct['ddl'][i] == 1:\n",
    "            v_ddl[2*i+1] = nbr_ddl \n",
    "            nbr_ddl = nbr_ddl+1\n",
    "        elif struct['ddl'][i] == 2:\n",
    "            v_ddl[2*i] = nbr_ddl \n",
    "            nbr_ddl = nbr_ddl+1\n",
    "    return v_ddl"
   ]
  },
  {
   "cell_type": "code",
   "execution_count": null,
   "metadata": {},
   "outputs": [],
   "source": []
  },
  {
   "cell_type": "code",
   "execution_count": 8,
   "metadata": {
    "scrolled": true
   },
   "outputs": [],
   "source": [
    "def sttiffnes_matrix(struct,E,A):\n",
    "    K_list = []; ddl_list = []; nbr_ddl = 1\n",
    "    gnr_ddl = ddl_vect(struct)\n",
    "    for i in range(len(struct)-1):\n",
    "        for j in range(i+3,len(struct)+2):\n",
    "            if struct.loc[i][j] == 1:\n",
    "                L = np.sqrt((struct['x'][i]-struct['x'][j-2])**2+(struct['y'][i]-struct['y'][j-2])**2)\n",
    "                nx = (struct['x'][i] - struct['x'][j-2])/L\n",
    "                ny = (struct['y'][i] - struct['y'][j-2])/L\n",
    "                K = E*A*np.array([[-nx],[-ny],[nx],[ny]])*np.array([-nx,-ny,nx,ny])/L\n",
    "                K_list.append(K)\n",
    "                \n",
    "                ddl_elem = np.array([0,0,0,0])\n",
    "                ddl_elem[0:2] = gnr_ddl[2*i:2*i+2]\n",
    "                ddl_elem[2:4] = gnr_ddl[2*j-4:2*j-2]\n",
    "                ddl_list.append(ddl_elem)\n",
    "                    \n",
    "    return K_list, ddl_list"
   ]
  },
  {
   "cell_type": "code",
   "execution_count": 9,
   "metadata": {},
   "outputs": [],
   "source": [
    "def assemblage(struct, E, A):\n",
    "    K_list, ddl_list = sttiffnes_matrix(struct, E, A)\n",
    "    ddl_vec          = ddl_vect(struct)\n",
    "    U = np.array([])\n",
    "    len_K = 0\n",
    "    for i in range(len(ddl_vec)):\n",
    "        if ddl_vec[i] != 0 :\n",
    "            if np.mod(i,2) == 0:\n",
    "                U = np.append(U, [struct['Px'][int(i/2)]], axis=0)\n",
    "            else:\n",
    "                U = np.append(U, [struct['Py'][int(i/2)]], axis=0)\n",
    "            len_K = len_K+1\n",
    "    K = np.array([[ float(0) for i in range(len_K)] for j in range(len_K)])\n",
    "    # Assemblage\n",
    "    for k in range(len(K_list)):\n",
    "        for i in range(len(ddl_list[k])):\n",
    "            if ddl_list[k][i] != 0:\n",
    "                for j in range(len(ddl_list[k])):\n",
    "                    if ddl_list[k][j] != 0:\n",
    "                        K[ddl_list[k][i]-1][ddl_list[k][j]-1] = K[ddl_list[k][i]-1][ddl_list[k][j]-1] + K_list[k][i][j]\n",
    "    return K, U"
   ]
  },
  {
   "cell_type": "code",
   "execution_count": 13,
   "metadata": {},
   "outputs": [],
   "source": [
    "K_list, ddl_list = sttiffnes_matrix(structure,1,1)"
   ]
  },
  {
   "cell_type": "code",
   "execution_count": 14,
   "metadata": {},
   "outputs": [
    {
     "name": "stdout",
     "output_type": "stream",
     "text": [
      "\n",
      "Le vecteur de ddl de l'élément  1  est :  [0 0 1 2]\n",
      "\n",
      "La matric de régidité de l'élément  1  est : \n",
      "[[ 1.76776695 -1.76776695 -1.76776695  1.76776695]\n",
      " [-1.76776695  1.76776695  1.76776695 -1.76776695]\n",
      " [-1.76776695  1.76776695  1.76776695 -1.76776695]\n",
      " [ 1.76776695 -1.76776695 -1.76776695  1.76776695]]\n",
      "\n",
      "Le vecteur de ddl de l'élément  2  est :  [0 0 0 3]\n",
      "\n",
      "La matric de régidité de l'élément  2  est : \n",
      "[[ 0.   0.  -0.  -0. ]\n",
      " [ 0.   2.5 -0.  -2.5]\n",
      " [-0.  -0.   0.   0. ]\n",
      " [-0.  -2.5  0.   2.5]]\n",
      "\n",
      "Le vecteur de ddl de l'élément  3  est :  [1 2 0 3]\n",
      "\n",
      "La matric de régidité de l'élément  3  est : \n",
      "[[ 1.76776695  1.76776695 -1.76776695 -1.76776695]\n",
      " [ 1.76776695  1.76776695 -1.76776695 -1.76776695]\n",
      " [-1.76776695 -1.76776695  1.76776695  1.76776695]\n",
      " [-1.76776695 -1.76776695  1.76776695  1.76776695]]\n"
     ]
    }
   ],
   "source": [
    "for i in range(len(K)):\n",
    "    print(\"\\nLe vecteur de ddl de l'élément \",str(i+1),\" est : \",str(ddl_list[i]))\n",
    "    print(\"\\nLa matric de régidité de l'élément \",str(i+1),\" est : \")\n",
    "    print(K_list[i])"
   ]
  },
  {
   "cell_type": "code",
   "execution_count": 15,
   "metadata": {},
   "outputs": [],
   "source": [
    "K, U = assemblage(structure, E=1, A=1)"
   ]
  },
  {
   "cell_type": "markdown",
   "metadata": {},
   "source": [
    "Matrice de régidité"
   ]
  },
  {
   "cell_type": "code",
   "execution_count": 16,
   "metadata": {},
   "outputs": [
    {
     "data": {
      "text/plain": [
       "array([[ 3.53553391,  0.        , -1.76776695],\n",
       "       [ 0.        ,  3.53553391, -1.76776695],\n",
       "       [-1.76776695, -1.76776695,  4.26776695]])"
      ]
     },
     "execution_count": 16,
     "metadata": {},
     "output_type": "execute_result"
    }
   ],
   "source": [
    "K"
   ]
  },
  {
   "cell_type": "markdown",
   "metadata": {},
   "source": [
    "Potentiel"
   ]
  },
  {
   "cell_type": "code",
   "execution_count": 17,
   "metadata": {},
   "outputs": [
    {
     "data": {
      "text/plain": [
       "array([     0., -10000.,      0.])"
      ]
     },
     "execution_count": 17,
     "metadata": {},
     "output_type": "execute_result"
    }
   ],
   "source": [
    "U"
   ]
  },
  {
   "cell_type": "markdown",
   "metadata": {},
   "source": [
    "Solution S = inv(K)*U"
   ]
  },
  {
   "cell_type": "code",
   "execution_count": 18,
   "metadata": {},
   "outputs": [
    {
     "name": "stdout",
     "output_type": "stream",
     "text": [
      "-1000.0000\n",
      "-3828.4271\n",
      "-2000.0000\n"
     ]
    }
   ],
   "source": [
    "S = np.matmul(np.linalg.inv(K),U)\n",
    "\n",
    "for i in range(len(S)):\n",
    "    print(\"{0:.4f}\".format(S[i]))"
   ]
  },
  {
   "cell_type": "code",
   "execution_count": 19,
   "metadata": {},
   "outputs": [],
   "source": [
    "def assembly_displacement(struct, E, A):\n",
    "    K, U = assemblage(structure, E, A)\n",
    "    S = np.matmul(np.linalg.inv(K),U)\n",
    "    DDL = {}\n",
    "    ddl = ddl_vect(struct)\n",
    "    \n",
    "    for i in range(len(ddl)):\n",
    "        if ddl[i] != 0:\n",
    "            if np.mod(i,2) == 0:\n",
    "                DDL.update({'u%d'% (int(i/2)+1):S[ddl[i]-1]})\n",
    "            else:\n",
    "                DDL.update({'v%d'% (int(i/2)+1):S[ddl[i]-1]})\n",
    "        else:\n",
    "            if np.mod(i,2) == 0:\n",
    "                DDL.update({'u%d'% (int(i/2)+1):0})\n",
    "            else:\n",
    "                DDL.update({'v%d'% (int(i/2)+1):0})\n",
    "    return DDL"
   ]
  },
  {
   "cell_type": "code",
   "execution_count": 20,
   "metadata": {},
   "outputs": [
    {
     "data": {
      "text/plain": [
       "{'u1': 0,\n",
       " 'v1': 0,\n",
       " 'u2': -49.99999999999999,\n",
       " 'v2': -191.42135623730954,\n",
       " 'u3': 0,\n",
       " 'v3': -99.99999999999999}"
      ]
     },
     "execution_count": 20,
     "metadata": {},
     "output_type": "execute_result"
    }
   ],
   "source": [
    "assembly_displacement(structure, 200000, 100e-6)"
   ]
  },
  {
   "cell_type": "code",
   "execution_count": null,
   "metadata": {},
   "outputs": [],
   "source": []
  }
 ],
 "metadata": {
  "kernelspec": {
   "display_name": "Python 3",
   "language": "python",
   "name": "python3"
  },
  "language_info": {
   "codemirror_mode": {
    "name": "ipython",
    "version": 3
   },
   "file_extension": ".py",
   "mimetype": "text/x-python",
   "name": "python",
   "nbconvert_exporter": "python",
   "pygments_lexer": "ipython3",
   "version": "3.8.5"
  }
 },
 "nbformat": 4,
 "nbformat_minor": 4
}
