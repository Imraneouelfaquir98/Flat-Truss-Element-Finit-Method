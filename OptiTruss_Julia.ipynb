{
 "cells": [
  {
   "cell_type": "code",
   "execution_count": 165,
   "metadata": {},
   "outputs": [],
   "source": [
    "using Pkg"
   ]
  },
  {
   "cell_type": "code",
   "execution_count": 173,
   "metadata": {},
   "outputs": [],
   "source": [
    "Pkg.add(\"DataFrames\")\n",
    "Pkg.add(\"Plots\")\n",
    "Pkg.add(\"CSV\")\n",
    "Pkg.add(\"Plots\")\n",
    "Pkg.add(\"DataStructures\")"
   ]
  },
  {
   "cell_type": "code",
   "execution_count": 181,
   "metadata": {},
   "outputs": [],
   "source": [
    "using DataFrames\n",
    "using DelimitedFiles\n",
    "using CSV\n",
    "using Plots\n",
    "using DataStructures"
   ]
  },
  {
   "cell_type": "markdown",
   "metadata": {},
   "source": [
    "Function for plotting Truss"
   ]
  },
  {
   "cell_type": "code",
   "execution_count": 182,
   "metadata": {},
   "outputs": [
    {
     "data": {
      "text/plain": [
       "plot_truss (generic function with 1 method)"
      ]
     },
     "execution_count": 182,
     "metadata": {},
     "output_type": "execute_result"
    }
   ],
   "source": [
    "function plot_truss(df)\n",
    "   p = plot(df[:,1], df[:,2], seriestype = :scatter, markersize=16, lw = 16, label=\"\")\n",
    "    for i in 1:length(df[:,1])\n",
    "        for j in 1:length(df[:,2])\n",
    "           if df[i, j+2] == 1\n",
    "                plot!(p, [df[i,1],df[j,1]], [df[i,2],df[j,2]], lw=9, color=:black, label=\"\")\n",
    "           end\n",
    "        end\n",
    "    end\n",
    "    return p\n",
    "end"
   ]
  },
  {
   "cell_type": "code",
   "execution_count": 183,
   "metadata": {},
   "outputs": [
    {
     "data": {
      "text/html": [
       "<table class=\"data-frame\"><thead><tr><th></th><th>x</th><th>y</th><th>n1</th><th>n2</th><th>n3</th><th>n4</th><th>n5</th><th>n6</th><th>ddl</th><th>Px</th><th>Py</th></tr><tr><th></th><th>Float64</th><th>Float64</th><th>Int64</th><th>Int64</th><th>Int64</th><th>Int64</th><th>Int64</th><th>Int64</th><th>Int64</th><th>Int64</th><th>Int64</th></tr></thead><tbody><p>6 rows × 11 columns</p><tr><th>1</th><td>0.0</td><td>0.0</td><td>0</td><td>1</td><td>0</td><td>1</td><td>1</td><td>1</td><td>3</td><td>0</td><td>0</td></tr><tr><th>2</th><td>0.5</td><td>0.0</td><td>1</td><td>0</td><td>1</td><td>1</td><td>1</td><td>1</td><td>0</td><td>0</td><td>-2000</td></tr><tr><th>3</th><td>1.0</td><td>0.0</td><td>0</td><td>1</td><td>0</td><td>1</td><td>1</td><td>1</td><td>3</td><td>0</td><td>0</td></tr><tr><th>4</th><td>1.0</td><td>0.5</td><td>1</td><td>1</td><td>1</td><td>0</td><td>1</td><td>0</td><td>0</td><td>0</td><td>0</td></tr><tr><th>5</th><td>0.5</td><td>0.5</td><td>1</td><td>1</td><td>1</td><td>1</td><td>0</td><td>1</td><td>0</td><td>0</td><td>0</td></tr><tr><th>6</th><td>0.0</td><td>0.5</td><td>1</td><td>1</td><td>1</td><td>0</td><td>1</td><td>0</td><td>0</td><td>0</td><td>0</td></tr></tbody></table>"
      ],
      "text/latex": [
       "\\begin{tabular}{r|ccccccccccc}\n",
       "\t& x & y & n1 & n2 & n3 & n4 & n5 & n6 & ddl & Px & Py\\\\\n",
       "\t\\hline\n",
       "\t& Float64 & Float64 & Int64 & Int64 & Int64 & Int64 & Int64 & Int64 & Int64 & Int64 & Int64\\\\\n",
       "\t\\hline\n",
       "\t1 & 0.0 & 0.0 & 0 & 1 & 0 & 1 & 1 & 1 & 3 & 0 & 0 \\\\\n",
       "\t2 & 0.5 & 0.0 & 1 & 0 & 1 & 1 & 1 & 1 & 0 & 0 & -2000 \\\\\n",
       "\t3 & 1.0 & 0.0 & 0 & 1 & 0 & 1 & 1 & 1 & 3 & 0 & 0 \\\\\n",
       "\t4 & 1.0 & 0.5 & 1 & 1 & 1 & 0 & 1 & 0 & 0 & 0 & 0 \\\\\n",
       "\t5 & 0.5 & 0.5 & 1 & 1 & 1 & 1 & 0 & 1 & 0 & 0 & 0 \\\\\n",
       "\t6 & 0.0 & 0.5 & 1 & 1 & 1 & 0 & 1 & 0 & 0 & 0 & 0 \\\\\n",
       "\\end{tabular}\n"
      ],
      "text/plain": [
       "\u001b[1m6×11 DataFrame\u001b[0m\n",
       "\u001b[1m Row \u001b[0m│\u001b[1m x       \u001b[0m\u001b[1m y       \u001b[0m\u001b[1m n1    \u001b[0m\u001b[1m n2    \u001b[0m\u001b[1m n3    \u001b[0m\u001b[1m n4    \u001b[0m\u001b[1m n5    \u001b[0m\u001b[1m n6    \u001b[0m\u001b[1m ddl   \u001b[0m\u001b[1m Px  \u001b[0m ⋯\n",
       "\u001b[1m     \u001b[0m│\u001b[90m Float64 \u001b[0m\u001b[90m Float64 \u001b[0m\u001b[90m Int64 \u001b[0m\u001b[90m Int64 \u001b[0m\u001b[90m Int64 \u001b[0m\u001b[90m Int64 \u001b[0m\u001b[90m Int64 \u001b[0m\u001b[90m Int64 \u001b[0m\u001b[90m Int64 \u001b[0m\u001b[90m Int6\u001b[0m ⋯\n",
       "─────┼──────────────────────────────────────────────────────────────────────────\n",
       "   1 │     0.0      0.0      0      1      0      1      1      1  3      0    ⋯\n",
       "   2 │     0.5      0.0      1      0      1      1      1      1  0      0\n",
       "   3 │     1.0      0.0      0      1      0      1      1      1  3      0\n",
       "   4 │     1.0      0.5      1      1      1      0      1      0  0      0\n",
       "   5 │     0.5      0.5      1      1      1      1      0      1  0      0    ⋯\n",
       "   6 │     0.0      0.5      1      1      1      0      1      0  0      0\n",
       "\u001b[36m                                                               2 columns omitted\u001b[0m"
      ]
     },
     "execution_count": 183,
     "metadata": {},
     "output_type": "execute_result"
    }
   ],
   "source": [
    "df = CSV.read(\"data.csv\", DataFrame)"
   ]
  },
  {
   "cell_type": "code",
   "execution_count": 184,
   "metadata": {},
   "outputs": [
    {
     "data": {
      "image/svg+xml": [
       "<?xml version=\"1.0\" encoding=\"utf-8\"?>\n",
       "<svg xmlns=\"http://www.w3.org/2000/svg\" xmlns:xlink=\"http://www.w3.org/1999/xlink\" width=\"600\" height=\"400\" viewBox=\"0 0 2400 1600\">\n",
       "<defs>\n",
       "  <clipPath id=\"clip770\">\n",
       "    <rect x=\"0\" y=\"0\" width=\"2400\" height=\"1600\"/>\n",
       "  </clipPath>\n",
       "</defs>\n",
       "<path clip-path=\"url(#clip770)\" d=\"\n",
       "M0 1600 L2400 1600 L2400 0 L0 0  Z\n",
       "  \" fill=\"#ffffff\" fill-rule=\"evenodd\" fill-opacity=\"1\"/>\n",
       "<defs>\n",
       "  <clipPath id=\"clip771\">\n",
       "    <rect x=\"480\" y=\"0\" width=\"1681\" height=\"1600\"/>\n",
       "  </clipPath>\n",
       "</defs>\n",
       "<path clip-path=\"url(#clip770)\" d=\"\n",
       "M148.334 1486.45 L2352.76 1486.45 L2352.76 47.2441 L148.334 47.2441  Z\n",
       "  \" fill=\"#ffffff\" fill-rule=\"evenodd\" fill-opacity=\"1\"/>\n",
       "<defs>\n",
       "  <clipPath id=\"clip772\">\n",
       "    <rect x=\"148\" y=\"47\" width=\"2205\" height=\"1440\"/>\n",
       "  </clipPath>\n",
       "</defs>\n",
       "<polyline clip-path=\"url(#clip772)\" style=\"stroke:#000000; stroke-width:2; stroke-opacity:0.1; fill:none\" points=\"\n",
       "  210.724,1486.45 210.724,47.2441 \n",
       "  \"/>\n",
       "<polyline clip-path=\"url(#clip772)\" style=\"stroke:#000000; stroke-width:2; stroke-opacity:0.1; fill:none\" points=\"\n",
       "  730.634,1486.45 730.634,47.2441 \n",
       "  \"/>\n",
       "<polyline clip-path=\"url(#clip772)\" style=\"stroke:#000000; stroke-width:2; stroke-opacity:0.1; fill:none\" points=\"\n",
       "  1250.55,1486.45 1250.55,47.2441 \n",
       "  \"/>\n",
       "<polyline clip-path=\"url(#clip772)\" style=\"stroke:#000000; stroke-width:2; stroke-opacity:0.1; fill:none\" points=\"\n",
       "  1770.46,1486.45 1770.46,47.2441 \n",
       "  \"/>\n",
       "<polyline clip-path=\"url(#clip772)\" style=\"stroke:#000000; stroke-width:2; stroke-opacity:0.1; fill:none\" points=\"\n",
       "  2290.37,1486.45 2290.37,47.2441 \n",
       "  \"/>\n",
       "<polyline clip-path=\"url(#clip770)\" style=\"stroke:#000000; stroke-width:4; stroke-opacity:1; fill:none\" points=\"\n",
       "  148.334,1486.45 2352.76,1486.45 \n",
       "  \"/>\n",
       "<polyline clip-path=\"url(#clip770)\" style=\"stroke:#000000; stroke-width:4; stroke-opacity:1; fill:none\" points=\"\n",
       "  210.724,1486.45 210.724,1469.18 \n",
       "  \"/>\n",
       "<polyline clip-path=\"url(#clip770)\" style=\"stroke:#000000; stroke-width:4; stroke-opacity:1; fill:none\" points=\"\n",
       "  730.634,1486.45 730.634,1469.18 \n",
       "  \"/>\n",
       "<polyline clip-path=\"url(#clip770)\" style=\"stroke:#000000; stroke-width:4; stroke-opacity:1; fill:none\" points=\"\n",
       "  1250.55,1486.45 1250.55,1469.18 \n",
       "  \"/>\n",
       "<polyline clip-path=\"url(#clip770)\" style=\"stroke:#000000; stroke-width:4; stroke-opacity:1; fill:none\" points=\"\n",
       "  1770.46,1486.45 1770.46,1469.18 \n",
       "  \"/>\n",
       "<polyline clip-path=\"url(#clip770)\" style=\"stroke:#000000; stroke-width:4; stroke-opacity:1; fill:none\" points=\"\n",
       "  2290.37,1486.45 2290.37,1469.18 \n",
       "  \"/>\n",
       "<path clip-path=\"url(#clip770)\" d=\"M 0 0 M178.733 1515.64 Q175.122 1515.64 173.293 1519.2 Q171.488 1522.75 171.488 1529.87 Q171.488 1536.98 173.293 1540.55 Q175.122 1544.09 178.733 1544.09 Q182.367 1544.09 184.173 1540.55 Q186.002 1536.98 186.002 1529.87 Q186.002 1522.75 184.173 1519.2 Q182.367 1515.64 178.733 1515.64 M178.733 1511.93 Q184.543 1511.93 187.599 1516.54 Q190.677 1521.12 190.677 1529.87 Q190.677 1538.6 187.599 1543.21 Q184.543 1547.79 178.733 1547.79 Q172.923 1547.79 169.844 1543.21 Q166.789 1538.6 166.789 1529.87 Q166.789 1521.12 169.844 1516.54 Q172.923 1511.93 178.733 1511.93 Z\" fill=\"#000000\" fill-rule=\"evenodd\" fill-opacity=\"1\" /><path clip-path=\"url(#clip770)\" d=\"M 0 0 M195.747 1541.24 L200.631 1541.24 L200.631 1547.12 L195.747 1547.12 L195.747 1541.24 Z\" fill=\"#000000\" fill-rule=\"evenodd\" fill-opacity=\"1\" /><path clip-path=\"url(#clip770)\" d=\"M 0 0 M215.701 1515.64 Q212.089 1515.64 210.261 1519.2 Q208.455 1522.75 208.455 1529.87 Q208.455 1536.98 210.261 1540.55 Q212.089 1544.09 215.701 1544.09 Q219.335 1544.09 221.14 1540.55 Q222.969 1536.98 222.969 1529.87 Q222.969 1522.75 221.14 1519.2 Q219.335 1515.64 215.701 1515.64 M215.701 1511.93 Q221.511 1511.93 224.566 1516.54 Q227.645 1521.12 227.645 1529.87 Q227.645 1538.6 224.566 1543.21 Q221.511 1547.79 215.701 1547.79 Q209.89 1547.79 206.812 1543.21 Q203.756 1538.6 203.756 1529.87 Q203.756 1521.12 206.812 1516.54 Q209.89 1511.93 215.701 1511.93 Z\" fill=\"#000000\" fill-rule=\"evenodd\" fill-opacity=\"1\" /><path clip-path=\"url(#clip770)\" d=\"M 0 0 M242.714 1515.64 Q239.103 1515.64 237.274 1519.2 Q235.469 1522.75 235.469 1529.87 Q235.469 1536.98 237.274 1540.55 Q239.103 1544.09 242.714 1544.09 Q246.348 1544.09 248.154 1540.55 Q249.983 1536.98 249.983 1529.87 Q249.983 1522.75 248.154 1519.2 Q246.348 1515.64 242.714 1515.64 M242.714 1511.93 Q248.524 1511.93 251.58 1516.54 Q254.659 1521.12 254.659 1529.87 Q254.659 1538.6 251.58 1543.21 Q248.524 1547.79 242.714 1547.79 Q236.904 1547.79 233.825 1543.21 Q230.77 1538.6 230.77 1529.87 Q230.77 1521.12 233.825 1516.54 Q236.904 1511.93 242.714 1511.93 Z\" fill=\"#000000\" fill-rule=\"evenodd\" fill-opacity=\"1\" /><path clip-path=\"url(#clip770)\" d=\"M 0 0 M699.94 1515.64 Q696.329 1515.64 694.5 1519.2 Q692.695 1522.75 692.695 1529.87 Q692.695 1536.98 694.5 1540.55 Q696.329 1544.09 699.94 1544.09 Q703.574 1544.09 705.38 1540.55 Q707.209 1536.98 707.209 1529.87 Q707.209 1522.75 705.38 1519.2 Q703.574 1515.64 699.94 1515.64 M699.94 1511.93 Q705.75 1511.93 708.806 1516.54 Q711.885 1521.12 711.885 1529.87 Q711.885 1538.6 708.806 1543.21 Q705.75 1547.79 699.94 1547.79 Q694.13 1547.79 691.051 1543.21 Q687.996 1538.6 687.996 1529.87 Q687.996 1521.12 691.051 1516.54 Q694.13 1511.93 699.94 1511.93 Z\" fill=\"#000000\" fill-rule=\"evenodd\" fill-opacity=\"1\" /><path clip-path=\"url(#clip770)\" d=\"M 0 0 M716.954 1541.24 L721.838 1541.24 L721.838 1547.12 L716.954 1547.12 L716.954 1541.24 Z\" fill=\"#000000\" fill-rule=\"evenodd\" fill-opacity=\"1\" /><path clip-path=\"url(#clip770)\" d=\"M 0 0 M730.935 1543.18 L747.255 1543.18 L747.255 1547.12 L725.31 1547.12 L725.31 1543.18 Q727.972 1540.43 732.556 1535.8 Q737.162 1531.15 738.343 1529.81 Q740.588 1527.28 741.468 1525.55 Q742.37 1523.79 742.37 1522.1 Q742.37 1519.34 740.426 1517.61 Q738.505 1515.87 735.403 1515.87 Q733.204 1515.87 730.75 1516.63 Q728.32 1517.4 725.542 1518.95 L725.542 1514.23 Q728.366 1513.09 730.82 1512.51 Q733.273 1511.93 735.31 1511.93 Q740.681 1511.93 743.875 1514.62 Q747.07 1517.31 747.07 1521.8 Q747.07 1523.93 746.259 1525.85 Q745.472 1527.74 743.366 1530.34 Q742.787 1531.01 739.685 1534.23 Q736.583 1537.42 730.935 1543.18 Z\" fill=\"#000000\" fill-rule=\"evenodd\" fill-opacity=\"1\" /><path clip-path=\"url(#clip770)\" d=\"M 0 0 M752.37 1512.56 L770.727 1512.56 L770.727 1516.5 L756.653 1516.5 L756.653 1524.97 Q757.671 1524.62 758.69 1524.46 Q759.708 1524.27 760.727 1524.27 Q766.514 1524.27 769.893 1527.44 Q773.273 1530.62 773.273 1536.03 Q773.273 1541.61 769.801 1544.71 Q766.329 1547.79 760.009 1547.79 Q757.833 1547.79 755.565 1547.42 Q753.319 1547.05 750.912 1546.31 L750.912 1541.61 Q752.995 1542.74 755.218 1543.3 Q757.44 1543.86 759.917 1543.86 Q763.921 1543.86 766.259 1541.75 Q768.597 1539.64 768.597 1536.03 Q768.597 1532.42 766.259 1530.31 Q763.921 1528.21 759.917 1528.21 Q758.042 1528.21 756.167 1528.62 Q754.315 1529.04 752.37 1529.92 L752.37 1512.56 Z\" fill=\"#000000\" fill-rule=\"evenodd\" fill-opacity=\"1\" /><path clip-path=\"url(#clip770)\" d=\"M 0 0 M1219.05 1515.64 Q1215.44 1515.64 1213.61 1519.2 Q1211.81 1522.75 1211.81 1529.87 Q1211.81 1536.98 1213.61 1540.55 Q1215.44 1544.09 1219.05 1544.09 Q1222.69 1544.09 1224.49 1540.55 Q1226.32 1536.98 1226.32 1529.87 Q1226.32 1522.75 1224.49 1519.2 Q1222.69 1515.64 1219.05 1515.64 M1219.05 1511.93 Q1224.86 1511.93 1227.92 1516.54 Q1231 1521.12 1231 1529.87 Q1231 1538.6 1227.92 1543.21 Q1224.86 1547.79 1219.05 1547.79 Q1213.24 1547.79 1210.16 1543.21 Q1207.11 1538.6 1207.11 1529.87 Q1207.11 1521.12 1210.16 1516.54 Q1213.24 1511.93 1219.05 1511.93 Z\" fill=\"#000000\" fill-rule=\"evenodd\" fill-opacity=\"1\" /><path clip-path=\"url(#clip770)\" d=\"M 0 0 M1236.07 1541.24 L1240.95 1541.24 L1240.95 1547.12 L1236.07 1547.12 L1236.07 1541.24 Z\" fill=\"#000000\" fill-rule=\"evenodd\" fill-opacity=\"1\" /><path clip-path=\"url(#clip770)\" d=\"M 0 0 M1246.07 1512.56 L1264.42 1512.56 L1264.42 1516.5 L1250.35 1516.5 L1250.35 1524.97 Q1251.37 1524.62 1252.39 1524.46 Q1253.4 1524.27 1254.42 1524.27 Q1260.21 1524.27 1263.59 1527.44 Q1266.97 1530.62 1266.97 1536.03 Q1266.97 1541.61 1263.5 1544.71 Q1260.02 1547.79 1253.7 1547.79 Q1251.53 1547.79 1249.26 1547.42 Q1247.02 1547.05 1244.61 1546.31 L1244.61 1541.61 Q1246.69 1542.74 1248.91 1543.3 Q1251.14 1543.86 1253.61 1543.86 Q1257.62 1543.86 1259.95 1541.75 Q1262.29 1539.64 1262.29 1536.03 Q1262.29 1532.42 1259.95 1530.31 Q1257.62 1528.21 1253.61 1528.21 Q1251.74 1528.21 1249.86 1528.62 Q1248.01 1529.04 1246.07 1529.92 L1246.07 1512.56 Z\" fill=\"#000000\" fill-rule=\"evenodd\" fill-opacity=\"1\" /><path clip-path=\"url(#clip770)\" d=\"M 0 0 M1282.04 1515.64 Q1278.43 1515.64 1276.6 1519.2 Q1274.79 1522.75 1274.79 1529.87 Q1274.79 1536.98 1276.6 1540.55 Q1278.43 1544.09 1282.04 1544.09 Q1285.67 1544.09 1287.48 1540.55 Q1289.31 1536.98 1289.31 1529.87 Q1289.31 1522.75 1287.48 1519.2 Q1285.67 1515.64 1282.04 1515.64 M1282.04 1511.93 Q1287.85 1511.93 1290.9 1516.54 Q1293.98 1521.12 1293.98 1529.87 Q1293.98 1538.6 1290.9 1543.21 Q1287.85 1547.79 1282.04 1547.79 Q1276.23 1547.79 1273.15 1543.21 Q1270.09 1538.6 1270.09 1529.87 Q1270.09 1521.12 1273.15 1516.54 Q1276.23 1511.93 1282.04 1511.93 Z\" fill=\"#000000\" fill-rule=\"evenodd\" fill-opacity=\"1\" /><path clip-path=\"url(#clip770)\" d=\"M 0 0 M1739.41 1515.64 Q1735.8 1515.64 1733.97 1519.2 Q1732.17 1522.75 1732.17 1529.87 Q1732.17 1536.98 1733.97 1540.55 Q1735.8 1544.09 1739.41 1544.09 Q1743.05 1544.09 1744.85 1540.55 Q1746.68 1536.98 1746.68 1529.87 Q1746.68 1522.75 1744.85 1519.2 Q1743.05 1515.64 1739.41 1515.64 M1739.41 1511.93 Q1745.22 1511.93 1748.28 1516.54 Q1751.36 1521.12 1751.36 1529.87 Q1751.36 1538.6 1748.28 1543.21 Q1745.22 1547.79 1739.41 1547.79 Q1733.6 1547.79 1730.53 1543.21 Q1727.47 1538.6 1727.47 1529.87 Q1727.47 1521.12 1730.53 1516.54 Q1733.6 1511.93 1739.41 1511.93 Z\" fill=\"#000000\" fill-rule=\"evenodd\" fill-opacity=\"1\" /><path clip-path=\"url(#clip770)\" d=\"M 0 0 M1756.43 1541.24 L1761.31 1541.24 L1761.31 1547.12 L1756.43 1547.12 L1756.43 1541.24 Z\" fill=\"#000000\" fill-rule=\"evenodd\" fill-opacity=\"1\" /><path clip-path=\"url(#clip770)\" d=\"M 0 0 M1765.2 1512.56 L1787.42 1512.56 L1787.42 1514.55 L1774.88 1547.12 L1769.99 1547.12 L1781.8 1516.5 L1765.2 1516.5 L1765.2 1512.56 Z\" fill=\"#000000\" fill-rule=\"evenodd\" fill-opacity=\"1\" /><path clip-path=\"url(#clip770)\" d=\"M 0 0 M1792.54 1512.56 L1810.9 1512.56 L1810.9 1516.5 L1796.82 1516.5 L1796.82 1524.97 Q1797.84 1524.62 1798.86 1524.46 Q1799.88 1524.27 1800.9 1524.27 Q1806.68 1524.27 1810.06 1527.44 Q1813.44 1530.62 1813.44 1536.03 Q1813.44 1541.61 1809.97 1544.71 Q1806.5 1547.79 1800.18 1547.79 Q1798 1547.79 1795.73 1547.42 Q1793.49 1547.05 1791.08 1546.31 L1791.08 1541.61 Q1793.16 1542.74 1795.39 1543.3 Q1797.61 1543.86 1800.09 1543.86 Q1804.09 1543.86 1806.43 1541.75 Q1808.77 1539.64 1808.77 1536.03 Q1808.77 1532.42 1806.43 1530.31 Q1804.09 1528.21 1800.09 1528.21 Q1798.21 1528.21 1796.34 1528.62 Q1794.48 1529.04 1792.54 1529.92 L1792.54 1512.56 Z\" fill=\"#000000\" fill-rule=\"evenodd\" fill-opacity=\"1\" /><path clip-path=\"url(#clip770)\" d=\"M 0 0 M2248.76 1543.18 L2256.4 1543.18 L2256.4 1516.82 L2248.09 1518.49 L2248.09 1514.23 L2256.35 1512.56 L2261.03 1512.56 L2261.03 1543.18 L2268.67 1543.18 L2268.67 1547.12 L2248.76 1547.12 L2248.76 1543.18 Z\" fill=\"#000000\" fill-rule=\"evenodd\" fill-opacity=\"1\" /><path clip-path=\"url(#clip770)\" d=\"M 0 0 M2273.73 1541.24 L2278.62 1541.24 L2278.62 1547.12 L2273.73 1547.12 L2273.73 1541.24 Z\" fill=\"#000000\" fill-rule=\"evenodd\" fill-opacity=\"1\" /><path clip-path=\"url(#clip770)\" d=\"M 0 0 M2293.69 1515.64 Q2290.08 1515.64 2288.25 1519.2 Q2286.44 1522.75 2286.44 1529.87 Q2286.44 1536.98 2288.25 1540.55 Q2290.08 1544.09 2293.69 1544.09 Q2297.32 1544.09 2299.13 1540.55 Q2300.96 1536.98 2300.96 1529.87 Q2300.96 1522.75 2299.13 1519.2 Q2297.32 1515.64 2293.69 1515.64 M2293.69 1511.93 Q2299.5 1511.93 2302.55 1516.54 Q2305.63 1521.12 2305.63 1529.87 Q2305.63 1538.6 2302.55 1543.21 Q2299.5 1547.79 2293.69 1547.79 Q2287.88 1547.79 2284.8 1543.21 Q2281.74 1538.6 2281.74 1529.87 Q2281.74 1521.12 2284.8 1516.54 Q2287.88 1511.93 2293.69 1511.93 Z\" fill=\"#000000\" fill-rule=\"evenodd\" fill-opacity=\"1\" /><path clip-path=\"url(#clip770)\" d=\"M 0 0 M2320.7 1515.64 Q2317.09 1515.64 2315.26 1519.2 Q2313.46 1522.75 2313.46 1529.87 Q2313.46 1536.98 2315.26 1540.55 Q2317.09 1544.09 2320.7 1544.09 Q2324.34 1544.09 2326.14 1540.55 Q2327.97 1536.98 2327.97 1529.87 Q2327.97 1522.75 2326.14 1519.2 Q2324.34 1515.64 2320.7 1515.64 M2320.7 1511.93 Q2326.51 1511.93 2329.57 1516.54 Q2332.65 1521.12 2332.65 1529.87 Q2332.65 1538.6 2329.57 1543.21 Q2326.51 1547.79 2320.7 1547.79 Q2314.89 1547.79 2311.81 1543.21 Q2308.76 1538.6 2308.76 1529.87 Q2308.76 1521.12 2311.81 1516.54 Q2314.89 1511.93 2320.7 1511.93 Z\" fill=\"#000000\" fill-rule=\"evenodd\" fill-opacity=\"1\" /><polyline clip-path=\"url(#clip772)\" style=\"stroke:#000000; stroke-width:2; stroke-opacity:0.1; fill:none\" points=\"\n",
       "  148.334,1445.72 2352.76,1445.72 \n",
       "  \"/>\n",
       "<polyline clip-path=\"url(#clip772)\" style=\"stroke:#000000; stroke-width:2; stroke-opacity:0.1; fill:none\" points=\"\n",
       "  148.334,1174.17 2352.76,1174.17 \n",
       "  \"/>\n",
       "<polyline clip-path=\"url(#clip772)\" style=\"stroke:#000000; stroke-width:2; stroke-opacity:0.1; fill:none\" points=\"\n",
       "  148.334,902.62 2352.76,902.62 \n",
       "  \"/>\n",
       "<polyline clip-path=\"url(#clip772)\" style=\"stroke:#000000; stroke-width:2; stroke-opacity:0.1; fill:none\" points=\"\n",
       "  148.334,631.072 2352.76,631.072 \n",
       "  \"/>\n",
       "<polyline clip-path=\"url(#clip772)\" style=\"stroke:#000000; stroke-width:2; stroke-opacity:0.1; fill:none\" points=\"\n",
       "  148.334,359.524 2352.76,359.524 \n",
       "  \"/>\n",
       "<polyline clip-path=\"url(#clip772)\" style=\"stroke:#000000; stroke-width:2; stroke-opacity:0.1; fill:none\" points=\"\n",
       "  148.334,87.9763 2352.76,87.9763 \n",
       "  \"/>\n",
       "<polyline clip-path=\"url(#clip770)\" style=\"stroke:#000000; stroke-width:4; stroke-opacity:1; fill:none\" points=\"\n",
       "  148.334,1486.45 148.334,47.2441 \n",
       "  \"/>\n",
       "<polyline clip-path=\"url(#clip770)\" style=\"stroke:#000000; stroke-width:4; stroke-opacity:1; fill:none\" points=\"\n",
       "  148.334,1445.72 174.787,1445.72 \n",
       "  \"/>\n",
       "<polyline clip-path=\"url(#clip770)\" style=\"stroke:#000000; stroke-width:4; stroke-opacity:1; fill:none\" points=\"\n",
       "  148.334,1174.17 174.787,1174.17 \n",
       "  \"/>\n",
       "<polyline clip-path=\"url(#clip770)\" style=\"stroke:#000000; stroke-width:4; stroke-opacity:1; fill:none\" points=\"\n",
       "  148.334,902.62 174.787,902.62 \n",
       "  \"/>\n",
       "<polyline clip-path=\"url(#clip770)\" style=\"stroke:#000000; stroke-width:4; stroke-opacity:1; fill:none\" points=\"\n",
       "  148.334,631.072 174.787,631.072 \n",
       "  \"/>\n",
       "<polyline clip-path=\"url(#clip770)\" style=\"stroke:#000000; stroke-width:4; stroke-opacity:1; fill:none\" points=\"\n",
       "  148.334,359.524 174.787,359.524 \n",
       "  \"/>\n",
       "<polyline clip-path=\"url(#clip770)\" style=\"stroke:#000000; stroke-width:4; stroke-opacity:1; fill:none\" points=\"\n",
       "  148.334,87.9763 174.787,87.9763 \n",
       "  \"/>\n",
       "<path clip-path=\"url(#clip770)\" d=\"M 0 0 M63.4226 1431.51 Q59.8115 1431.51 57.9828 1435.08 Q56.1773 1438.62 56.1773 1445.75 Q56.1773 1452.86 57.9828 1456.42 Q59.8115 1459.96 63.4226 1459.96 Q67.0569 1459.96 68.8624 1456.42 Q70.6911 1452.86 70.6911 1445.75 Q70.6911 1438.62 68.8624 1435.08 Q67.0569 1431.51 63.4226 1431.51 M63.4226 1427.81 Q69.2328 1427.81 72.2883 1432.42 Q75.367 1437 75.367 1445.75 Q75.367 1454.48 72.2883 1459.08 Q69.2328 1463.67 63.4226 1463.67 Q57.6125 1463.67 54.5338 1459.08 Q51.4782 1454.48 51.4782 1445.75 Q51.4782 1437 54.5338 1432.42 Q57.6125 1427.81 63.4226 1427.81 Z\" fill=\"#000000\" fill-rule=\"evenodd\" fill-opacity=\"1\" /><path clip-path=\"url(#clip770)\" d=\"M 0 0 M80.4364 1457.12 L85.3206 1457.12 L85.3206 1463 L80.4364 1463 L80.4364 1457.12 Z\" fill=\"#000000\" fill-rule=\"evenodd\" fill-opacity=\"1\" /><path clip-path=\"url(#clip770)\" d=\"M 0 0 M100.39 1431.51 Q96.7789 1431.51 94.9502 1435.08 Q93.1447 1438.62 93.1447 1445.75 Q93.1447 1452.86 94.9502 1456.42 Q96.7789 1459.96 100.39 1459.96 Q104.024 1459.96 105.83 1456.42 Q107.658 1452.86 107.658 1445.75 Q107.658 1438.62 105.83 1435.08 Q104.024 1431.51 100.39 1431.51 M100.39 1427.81 Q106.2 1427.81 109.256 1432.42 Q112.334 1437 112.334 1445.75 Q112.334 1454.48 109.256 1459.08 Q106.2 1463.67 100.39 1463.67 Q94.5799 1463.67 91.5012 1459.08 Q88.4456 1454.48 88.4456 1445.75 Q88.4456 1437 91.5012 1432.42 Q94.5799 1427.81 100.39 1427.81 Z\" fill=\"#000000\" fill-rule=\"evenodd\" fill-opacity=\"1\" /><path clip-path=\"url(#clip770)\" d=\"M 0 0 M64.6495 1159.97 Q61.0384 1159.97 59.2097 1163.53 Q57.4041 1167.07 57.4041 1174.2 Q57.4041 1181.31 59.2097 1184.87 Q61.0384 1188.42 64.6495 1188.42 Q68.2837 1188.42 70.0892 1184.87 Q71.9179 1181.31 71.9179 1174.2 Q71.9179 1167.07 70.0892 1163.53 Q68.2837 1159.97 64.6495 1159.97 M64.6495 1156.26 Q70.4596 1156.26 73.5152 1160.87 Q76.5938 1165.45 76.5938 1174.2 Q76.5938 1182.93 73.5152 1187.54 Q70.4596 1192.12 64.6495 1192.12 Q58.8393 1192.12 55.7606 1187.54 Q52.7051 1182.93 52.7051 1174.2 Q52.7051 1165.45 55.7606 1160.87 Q58.8393 1156.26 64.6495 1156.26 Z\" fill=\"#000000\" fill-rule=\"evenodd\" fill-opacity=\"1\" /><path clip-path=\"url(#clip770)\" d=\"M 0 0 M81.6633 1185.57 L86.5475 1185.57 L86.5475 1191.45 L81.6633 1191.45 L81.6633 1185.57 Z\" fill=\"#000000\" fill-rule=\"evenodd\" fill-opacity=\"1\" /><path clip-path=\"url(#clip770)\" d=\"M 0 0 M92.4271 1187.51 L100.066 1187.51 L100.066 1161.15 L91.7558 1162.81 L91.7558 1158.55 L100.02 1156.89 L104.696 1156.89 L104.696 1187.51 L112.334 1187.51 L112.334 1191.45 L92.4271 1191.45 L92.4271 1187.51 Z\" fill=\"#000000\" fill-rule=\"evenodd\" fill-opacity=\"1\" /><path clip-path=\"url(#clip770)\" d=\"M 0 0 M65.0198 888.419 Q61.4087 888.419 59.58 891.983 Q57.7745 895.525 57.7745 902.655 Q57.7745 909.761 59.58 913.326 Q61.4087 916.868 65.0198 916.868 Q68.6541 916.868 70.4596 913.326 Q72.2883 909.761 72.2883 902.655 Q72.2883 895.525 70.4596 891.983 Q68.6541 888.419 65.0198 888.419 M65.0198 884.715 Q70.83 884.715 73.8855 889.321 Q76.9642 893.905 76.9642 902.655 Q76.9642 911.381 73.8855 915.988 Q70.83 920.571 65.0198 920.571 Q59.2097 920.571 56.131 915.988 Q53.0754 911.381 53.0754 902.655 Q53.0754 893.905 56.131 889.321 Q59.2097 884.715 65.0198 884.715 Z\" fill=\"#000000\" fill-rule=\"evenodd\" fill-opacity=\"1\" /><path clip-path=\"url(#clip770)\" d=\"M 0 0 M82.0336 914.02 L86.9179 914.02 L86.9179 919.9 L82.0336 919.9 L82.0336 914.02 Z\" fill=\"#000000\" fill-rule=\"evenodd\" fill-opacity=\"1\" /><path clip-path=\"url(#clip770)\" d=\"M 0 0 M96.015 915.965 L112.334 915.965 L112.334 919.9 L90.3901 919.9 L90.3901 915.965 Q93.0521 913.21 97.6354 908.581 Q102.242 903.928 103.422 902.585 Q105.668 900.062 106.547 898.326 Q107.45 896.567 107.45 894.877 Q107.45 892.122 105.506 890.386 Q103.584 888.65 100.483 888.65 Q98.2835 888.65 95.8298 889.414 Q93.3993 890.178 90.6215 891.729 L90.6215 887.007 Q93.4456 885.872 95.8993 885.294 Q98.353 884.715 100.39 884.715 Q105.76 884.715 108.955 887.4 Q112.149 890.085 112.149 894.576 Q112.149 896.706 111.339 898.627 Q110.552 900.525 108.446 903.118 Q107.867 903.789 104.765 907.006 Q101.663 910.201 96.015 915.965 Z\" fill=\"#000000\" fill-rule=\"evenodd\" fill-opacity=\"1\" /><path clip-path=\"url(#clip770)\" d=\"M 0 0 M64.0708 616.871 Q60.4597 616.871 58.631 620.436 Q56.8254 623.977 56.8254 631.107 Q56.8254 638.213 58.631 641.778 Q60.4597 645.32 64.0708 645.32 Q67.705 645.32 69.5105 641.778 Q71.3392 638.213 71.3392 631.107 Q71.3392 623.977 69.5105 620.436 Q67.705 616.871 64.0708 616.871 M64.0708 613.167 Q69.8809 613.167 72.9365 617.774 Q76.0151 622.357 76.0151 631.107 Q76.0151 639.834 72.9365 644.44 Q69.8809 649.023 64.0708 649.023 Q58.2606 649.023 55.1819 644.44 Q52.1264 639.834 52.1264 631.107 Q52.1264 622.357 55.1819 617.774 Q58.2606 613.167 64.0708 613.167 Z\" fill=\"#000000\" fill-rule=\"evenodd\" fill-opacity=\"1\" /><path clip-path=\"url(#clip770)\" d=\"M 0 0 M81.0846 642.472 L85.9688 642.472 L85.9688 648.352 L81.0846 648.352 L81.0846 642.472 Z\" fill=\"#000000\" fill-rule=\"evenodd\" fill-opacity=\"1\" /><path clip-path=\"url(#clip770)\" d=\"M 0 0 M105.205 629.718 Q108.561 630.435 110.436 632.704 Q112.334 634.972 112.334 638.306 Q112.334 643.422 108.816 646.222 Q105.297 649.023 98.8159 649.023 Q96.64 649.023 94.3252 648.584 Q92.0336 648.167 89.5799 647.31 L89.5799 642.797 Q91.5243 643.931 93.8391 644.509 Q96.1539 645.088 98.6771 645.088 Q103.075 645.088 105.367 643.352 Q107.682 641.616 107.682 638.306 Q107.682 635.25 105.529 633.537 Q103.399 631.801 99.5798 631.801 L95.5521 631.801 L95.5521 627.959 L99.765 627.959 Q103.214 627.959 105.043 626.593 Q106.871 625.204 106.871 622.611 Q106.871 619.949 104.973 618.537 Q103.098 617.102 99.5798 617.102 Q97.6585 617.102 95.4595 617.519 Q93.2604 617.936 90.6215 618.815 L90.6215 614.649 Q93.2836 613.908 95.5984 613.537 Q97.9363 613.167 99.9965 613.167 Q105.321 613.167 108.422 615.598 Q111.524 618.005 111.524 622.125 Q111.524 624.996 109.881 626.986 Q108.237 628.954 105.205 629.718 Z\" fill=\"#000000\" fill-rule=\"evenodd\" fill-opacity=\"1\" /><path clip-path=\"url(#clip770)\" d=\"M 0 0 M62.9365 345.323 Q59.3254 345.323 57.4967 348.888 Q55.6912 352.429 55.6912 359.559 Q55.6912 366.665 57.4967 370.23 Q59.3254 373.772 62.9365 373.772 Q66.5707 373.772 68.3763 370.23 Q70.205 366.665 70.205 359.559 Q70.205 352.429 68.3763 348.888 Q66.5707 345.323 62.9365 345.323 M62.9365 341.619 Q68.7467 341.619 71.8022 346.226 Q74.8809 350.809 74.8809 359.559 Q74.8809 368.286 71.8022 372.892 Q68.7467 377.475 62.9365 377.475 Q57.1264 377.475 54.0477 372.892 Q50.9921 368.286 50.9921 359.559 Q50.9921 350.809 54.0477 346.226 Q57.1264 341.619 62.9365 341.619 Z\" fill=\"#000000\" fill-rule=\"evenodd\" fill-opacity=\"1\" /><path clip-path=\"url(#clip770)\" d=\"M 0 0 M79.9503 370.925 L84.8345 370.925 L84.8345 376.804 L79.9503 376.804 L79.9503 370.925 Z\" fill=\"#000000\" fill-rule=\"evenodd\" fill-opacity=\"1\" /><path clip-path=\"url(#clip770)\" d=\"M 0 0 M102.751 346.318 L90.9456 364.767 L102.751 364.767 L102.751 346.318 M101.524 342.244 L107.404 342.244 L107.404 364.767 L112.334 364.767 L112.334 368.656 L107.404 368.656 L107.404 376.804 L102.751 376.804 L102.751 368.656 L87.1493 368.656 L87.1493 364.142 L101.524 342.244 Z\" fill=\"#000000\" fill-rule=\"evenodd\" fill-opacity=\"1\" /><path clip-path=\"url(#clip770)\" d=\"M 0 0 M64.418 73.775 Q60.8069 73.775 58.9782 77.3398 Q57.1726 80.8814 57.1726 88.011 Q57.1726 95.1174 58.9782 98.6822 Q60.8069 102.224 64.418 102.224 Q68.0522 102.224 69.8578 98.6822 Q71.6865 95.1174 71.6865 88.011 Q71.6865 80.8814 69.8578 77.3398 Q68.0522 73.775 64.418 73.775 M64.418 70.0713 Q70.2281 70.0713 73.2837 74.6777 Q76.3624 79.261 76.3624 88.011 Q76.3624 96.7378 73.2837 101.344 Q70.2281 105.928 64.418 105.928 Q58.6078 105.928 55.5291 101.344 Q52.4736 96.7378 52.4736 88.011 Q52.4736 79.261 55.5291 74.6777 Q58.6078 70.0713 64.418 70.0713 Z\" fill=\"#000000\" fill-rule=\"evenodd\" fill-opacity=\"1\" /><path clip-path=\"url(#clip770)\" d=\"M 0 0 M81.4318 99.3767 L86.316 99.3767 L86.316 105.256 L81.4318 105.256 L81.4318 99.3767 Z\" fill=\"#000000\" fill-rule=\"evenodd\" fill-opacity=\"1\" /><path clip-path=\"url(#clip770)\" d=\"M 0 0 M91.4317 70.6963 L109.788 70.6963 L109.788 74.6314 L95.7141 74.6314 L95.7141 83.1036 Q96.7326 82.7564 97.7511 82.5944 Q98.7696 82.4092 99.7882 82.4092 Q105.575 82.4092 108.955 85.5805 Q112.334 88.7517 112.334 94.1684 Q112.334 99.747 108.862 102.849 Q105.39 105.928 99.0706 105.928 Q96.8947 105.928 94.6262 105.557 Q92.3808 105.187 89.9734 104.446 L89.9734 99.747 Q92.0567 100.881 94.2789 101.437 Q96.5011 101.992 98.978 101.992 Q102.983 101.992 105.321 99.8859 Q107.658 97.7795 107.658 94.1684 Q107.658 90.5573 105.321 88.4508 Q102.983 86.3443 98.978 86.3443 Q97.103 86.3443 95.228 86.761 Q93.3762 87.1777 91.4317 88.0573 L91.4317 70.6963 Z\" fill=\"#000000\" fill-rule=\"evenodd\" fill-opacity=\"1\" /><circle clip-path=\"url(#clip772)\" cx=\"210.724\" cy=\"1445.72\" r=\"57\" fill=\"#009af9\" fill-rule=\"evenodd\" fill-opacity=\"1\" stroke=\"#000000\" stroke-opacity=\"1\" stroke-width=\"3.2\"/>\n",
       "<circle clip-path=\"url(#clip772)\" cx=\"1250.55\" cy=\"1445.72\" r=\"57\" fill=\"#009af9\" fill-rule=\"evenodd\" fill-opacity=\"1\" stroke=\"#000000\" stroke-opacity=\"1\" stroke-width=\"3.2\"/>\n",
       "<circle clip-path=\"url(#clip772)\" cx=\"2290.37\" cy=\"1445.72\" r=\"57\" fill=\"#009af9\" fill-rule=\"evenodd\" fill-opacity=\"1\" stroke=\"#000000\" stroke-opacity=\"1\" stroke-width=\"3.2\"/>\n",
       "<circle clip-path=\"url(#clip772)\" cx=\"2290.37\" cy=\"87.9763\" r=\"57\" fill=\"#009af9\" fill-rule=\"evenodd\" fill-opacity=\"1\" stroke=\"#000000\" stroke-opacity=\"1\" stroke-width=\"3.2\"/>\n",
       "<circle clip-path=\"url(#clip772)\" cx=\"1250.55\" cy=\"87.9763\" r=\"57\" fill=\"#009af9\" fill-rule=\"evenodd\" fill-opacity=\"1\" stroke=\"#000000\" stroke-opacity=\"1\" stroke-width=\"3.2\"/>\n",
       "<circle clip-path=\"url(#clip772)\" cx=\"210.724\" cy=\"87.9763\" r=\"57\" fill=\"#009af9\" fill-rule=\"evenodd\" fill-opacity=\"1\" stroke=\"#000000\" stroke-opacity=\"1\" stroke-width=\"3.2\"/>\n",
       "<polyline clip-path=\"url(#clip772)\" style=\"stroke:#000000; stroke-width:36; stroke-opacity:1; fill:none\" points=\"\n",
       "  210.724,1445.72 1250.55,1445.72 \n",
       "  \"/>\n",
       "<polyline clip-path=\"url(#clip772)\" style=\"stroke:#000000; stroke-width:36; stroke-opacity:1; fill:none\" points=\"\n",
       "  210.724,1445.72 2290.37,87.9763 \n",
       "  \"/>\n",
       "<polyline clip-path=\"url(#clip772)\" style=\"stroke:#000000; stroke-width:36; stroke-opacity:1; fill:none\" points=\"\n",
       "  210.724,1445.72 1250.55,87.9763 \n",
       "  \"/>\n",
       "<polyline clip-path=\"url(#clip772)\" style=\"stroke:#000000; stroke-width:36; stroke-opacity:1; fill:none\" points=\"\n",
       "  210.724,1445.72 210.724,87.9763 \n",
       "  \"/>\n",
       "<polyline clip-path=\"url(#clip772)\" style=\"stroke:#000000; stroke-width:36; stroke-opacity:1; fill:none\" points=\"\n",
       "  1250.55,1445.72 210.724,1445.72 \n",
       "  \"/>\n",
       "<polyline clip-path=\"url(#clip772)\" style=\"stroke:#000000; stroke-width:36; stroke-opacity:1; fill:none\" points=\"\n",
       "  1250.55,1445.72 2290.37,1445.72 \n",
       "  \"/>\n",
       "<polyline clip-path=\"url(#clip772)\" style=\"stroke:#000000; stroke-width:36; stroke-opacity:1; fill:none\" points=\"\n",
       "  1250.55,1445.72 2290.37,87.9763 \n",
       "  \"/>\n",
       "<polyline clip-path=\"url(#clip772)\" style=\"stroke:#000000; stroke-width:36; stroke-opacity:1; fill:none\" points=\"\n",
       "  1250.55,1445.72 1250.55,87.9763 \n",
       "  \"/>\n",
       "<polyline clip-path=\"url(#clip772)\" style=\"stroke:#000000; stroke-width:36; stroke-opacity:1; fill:none\" points=\"\n",
       "  1250.55,1445.72 210.724,87.9763 \n",
       "  \"/>\n",
       "<polyline clip-path=\"url(#clip772)\" style=\"stroke:#000000; stroke-width:36; stroke-opacity:1; fill:none\" points=\"\n",
       "  2290.37,1445.72 1250.55,1445.72 \n",
       "  \"/>\n",
       "<polyline clip-path=\"url(#clip772)\" style=\"stroke:#000000; stroke-width:36; stroke-opacity:1; fill:none\" points=\"\n",
       "  2290.37,1445.72 2290.37,87.9763 \n",
       "  \"/>\n",
       "<polyline clip-path=\"url(#clip772)\" style=\"stroke:#000000; stroke-width:36; stroke-opacity:1; fill:none\" points=\"\n",
       "  2290.37,1445.72 1250.55,87.9763 \n",
       "  \"/>\n",
       "<polyline clip-path=\"url(#clip772)\" style=\"stroke:#000000; stroke-width:36; stroke-opacity:1; fill:none\" points=\"\n",
       "  2290.37,1445.72 210.724,87.9763 \n",
       "  \"/>\n",
       "<polyline clip-path=\"url(#clip772)\" style=\"stroke:#000000; stroke-width:36; stroke-opacity:1; fill:none\" points=\"\n",
       "  2290.37,87.9763 210.724,1445.72 \n",
       "  \"/>\n",
       "<polyline clip-path=\"url(#clip772)\" style=\"stroke:#000000; stroke-width:36; stroke-opacity:1; fill:none\" points=\"\n",
       "  2290.37,87.9763 1250.55,1445.72 \n",
       "  \"/>\n",
       "<polyline clip-path=\"url(#clip772)\" style=\"stroke:#000000; stroke-width:36; stroke-opacity:1; fill:none\" points=\"\n",
       "  2290.37,87.9763 2290.37,1445.72 \n",
       "  \"/>\n",
       "<polyline clip-path=\"url(#clip772)\" style=\"stroke:#000000; stroke-width:36; stroke-opacity:1; fill:none\" points=\"\n",
       "  2290.37,87.9763 1250.55,87.9763 \n",
       "  \"/>\n",
       "<polyline clip-path=\"url(#clip772)\" style=\"stroke:#000000; stroke-width:36; stroke-opacity:1; fill:none\" points=\"\n",
       "  1250.55,87.9763 210.724,1445.72 \n",
       "  \"/>\n",
       "<polyline clip-path=\"url(#clip772)\" style=\"stroke:#000000; stroke-width:36; stroke-opacity:1; fill:none\" points=\"\n",
       "  1250.55,87.9763 1250.55,1445.72 \n",
       "  \"/>\n",
       "<polyline clip-path=\"url(#clip772)\" style=\"stroke:#000000; stroke-width:36; stroke-opacity:1; fill:none\" points=\"\n",
       "  1250.55,87.9763 2290.37,1445.72 \n",
       "  \"/>\n",
       "<polyline clip-path=\"url(#clip772)\" style=\"stroke:#000000; stroke-width:36; stroke-opacity:1; fill:none\" points=\"\n",
       "  1250.55,87.9763 2290.37,87.9763 \n",
       "  \"/>\n",
       "<polyline clip-path=\"url(#clip772)\" style=\"stroke:#000000; stroke-width:36; stroke-opacity:1; fill:none\" points=\"\n",
       "  1250.55,87.9763 210.724,87.9763 \n",
       "  \"/>\n",
       "<polyline clip-path=\"url(#clip772)\" style=\"stroke:#000000; stroke-width:36; stroke-opacity:1; fill:none\" points=\"\n",
       "  210.724,87.9763 210.724,1445.72 \n",
       "  \"/>\n",
       "<polyline clip-path=\"url(#clip772)\" style=\"stroke:#000000; stroke-width:36; stroke-opacity:1; fill:none\" points=\"\n",
       "  210.724,87.9763 1250.55,1445.72 \n",
       "  \"/>\n",
       "<polyline clip-path=\"url(#clip772)\" style=\"stroke:#000000; stroke-width:36; stroke-opacity:1; fill:none\" points=\"\n",
       "  210.724,87.9763 2290.37,1445.72 \n",
       "  \"/>\n",
       "<polyline clip-path=\"url(#clip772)\" style=\"stroke:#000000; stroke-width:36; stroke-opacity:1; fill:none\" points=\"\n",
       "  210.724,87.9763 1250.55,87.9763 \n",
       "  \"/>\n",
       "</svg>\n"
      ]
     },
     "execution_count": 184,
     "metadata": {},
     "output_type": "execute_result"
    }
   ],
   "source": [
    "plot_truss(df)"
   ]
  },
  {
   "cell_type": "markdown",
   "metadata": {},
   "source": [
    "# Partition des degrés de liberté\n",
    "Cette fonction retourne la localisation des degrés de liberté DDL dans les matrices globales ainsi que les éléments du treillis."
   ]
  },
  {
   "cell_type": "code",
   "execution_count": 282,
   "metadata": {},
   "outputs": [
    {
     "data": {
      "text/plain": [
       "ddl_vector (generic function with 1 method)"
      ]
     },
     "execution_count": 282,
     "metadata": {},
     "output_type": "execute_result"
    }
   ],
   "source": [
    "function ddl_vector(truss)\n",
    "    nbr_ddl = 1; elements = []\n",
    "    v_ddl = zeros(2*length(truss[:,1]))\n",
    "    # Vector DDL\n",
    "    for i in 1:length(truss[:,1])\n",
    "        if truss[i, 3+length(truss[:,1])] == 0\n",
    "            v_ddl[2*i-1: 2*i] = [nbr_ddl, nbr_ddl+1]\n",
    "            nbr_ddl = nbr_ddl + 2\n",
    "        elseif truss[i, 3+length(truss[:,1])] == 1\n",
    "            v_ddl[2*i] = nbr_ddl\n",
    "            nbr_ddl = nbr_ddl + 1\n",
    "        elseif truss[i, 3+length(truss[:,1])] == 2\n",
    "            v_ddl[2*i-1] = nbr_ddl\n",
    "            nbr_ddl = nbr_ddl + 1\n",
    "        end\n",
    "    end\n",
    "    # Truss elements\n",
    "    for i in 1:length(truss[:,1])-1\n",
    "        for j in i+3:length(truss[:,1])+2\n",
    "            if truss[i,j] == 1\n",
    "               push!(elements,[i,j-2]) \n",
    "            end\n",
    "        end\n",
    "    end\n",
    "    return v_ddl, elements\n",
    "end"
   ]
  },
  {
   "cell_type": "code",
   "execution_count": 186,
   "metadata": {},
   "outputs": [
    {
     "data": {
      "text/plain": [
       "([0.0, 0.0, 1.0, 2.0, 0.0, 0.0, 3.0, 4.0, 5.0, 6.0, 7.0, 8.0], Any[[1, 2], [1, 4], [1, 5], [1, 6], [2, 3], [2, 4], [2, 5], [2, 6], [3, 4], [3, 5], [3, 6], [4, 5], [5, 6]])"
      ]
     },
     "execution_count": 186,
     "metadata": {},
     "output_type": "execute_result"
    }
   ],
   "source": [
    "ddl, elems = ddl_vector(df)"
   ]
  },
  {
   "cell_type": "code",
   "execution_count": 187,
   "metadata": {},
   "outputs": [
    {
     "data": {
      "text/plain": [
       "13-element Array{Any,1}:\n",
       " [1, 2]\n",
       " [1, 4]\n",
       " [1, 5]\n",
       " [1, 6]\n",
       " [2, 3]\n",
       " [2, 4]\n",
       " [2, 5]\n",
       " [2, 6]\n",
       " [3, 4]\n",
       " [3, 5]\n",
       " [3, 6]\n",
       " [4, 5]\n",
       " [5, 6]"
      ]
     },
     "execution_count": 187,
     "metadata": {},
     "output_type": "execute_result"
    }
   ],
   "source": [
    "elems"
   ]
  },
  {
   "cell_type": "code",
   "execution_count": 188,
   "metadata": {},
   "outputs": [
    {
     "data": {
      "text/plain": [
       "12-element Array{Float64,1}:\n",
       " 0.0\n",
       " 0.0\n",
       " 1.0\n",
       " 2.0\n",
       " 0.0\n",
       " 0.0\n",
       " 3.0\n",
       " 4.0\n",
       " 5.0\n",
       " 6.0\n",
       " 7.0\n",
       " 8.0"
      ]
     },
     "execution_count": 188,
     "metadata": {},
     "output_type": "execute_result"
    }
   ],
   "source": [
    "ddl"
   ]
  },
  {
   "cell_type": "code",
   "execution_count": 189,
   "metadata": {},
   "outputs": [
    {
     "data": {
      "text/plain": [
       "longeur_barres (generic function with 1 method)"
      ]
     },
     "execution_count": 189,
     "metadata": {},
     "output_type": "execute_result"
    }
   ],
   "source": [
    "function longeur_barres(truss)\n",
    "    L = []\n",
    "    ddl, e = ddl_vector(truss)\n",
    "    for i in 1:length(e)\n",
    "        append!(L,sqrt( (truss.x[e[i][1]] - truss.x[e[i][2]])^2 + (truss.y[e[i][1]] - truss.y[e[i][2]])^2))\n",
    "    end\n",
    "    return L\n",
    "end"
   ]
  },
  {
   "cell_type": "markdown",
   "metadata": {},
   "source": [
    "# Étude élémentaire\n",
    "Cette fonction retourne les matrices de rigidité élémentaire"
   ]
  },
  {
   "cell_type": "code",
   "execution_count": 190,
   "metadata": {
    "scrolled": true
   },
   "outputs": [
    {
     "data": {
      "text/plain": [
       "matrice_regidite (generic function with 1 method)"
      ]
     },
     "execution_count": 190,
     "metadata": {},
     "output_type": "execute_result"
    }
   ],
   "source": [
    "function matrice_regidite(truss, E, A, alpha, delta_T)\n",
    "    K_list = []; ddl_list = []; f_th_list = []; nbr_ddl = 1\n",
    "    gnr_ddl, elements = ddl_vector(truss)\n",
    "    cur = 1\n",
    "    for i in 1:length(truss[:,1])-1\n",
    "        for j in i+3:length(truss[:,1])+2\n",
    "            if truss[i,j] ==1\n",
    "                L = sqrt( (truss.x[i] - truss.x[j-2])^2 + (truss.y[i] - truss.y[j-2])^2)\n",
    "                nx = (truss.x[i] - truss.x[j-2])/L\n",
    "                ny = (truss.y[i] - truss.y[j-2])/L\n",
    "                # Matric de régidité de l'élément (i ==> j-2)\n",
    "                K  = E*A[cur][1]*[-nx; -ny; nx; ny]*[-nx -ny nx ny]/L\n",
    "                push!(K_list, K)\n",
    "                # Vecteur de degré de liberté de l'élémént (i ==> j-2)\n",
    "                ddl_elem = zeros(4,1)\n",
    "                ddl_elem[1:2] = gnr_ddl[2*i-1:2*i]\n",
    "                ddl_elem[3:4] = gnr_ddl[2*j-5:2*j-4]\n",
    "                push!(ddl_list,ddl_elem)\n",
    "                # Vecteur force de l'élémént (i ==> j-2)\n",
    "                f_th = E*A[cur][1]*alpha*delta_T*[-nx; -ny; nx; ny]; cur +=1\n",
    "                push!(f_th_list,f_th)\n",
    "            end\n",
    "        end\n",
    "    end\n",
    "    return K_list, ddl_list, f_th_list\n",
    "end"
   ]
  },
  {
   "cell_type": "code",
   "execution_count": 193,
   "metadata": {},
   "outputs": [],
   "source": [
    "K_list, ddl_list, f_th_list = matrice_regidite(df,1,[1 1 1 1 1 1 1 1 1 1 1 1 1],0,0)"
   ]
  },
  {
   "cell_type": "code",
   "execution_count": 194,
   "metadata": {},
   "outputs": [
    {
     "data": {
      "text/plain": [
       "4×4 Array{Float64,2}:\n",
       "  2.0  0.0  -2.0  0.0\n",
       "  0.0  0.0   0.0  0.0\n",
       " -2.0  0.0   2.0  0.0\n",
       "  0.0  0.0   0.0  0.0"
      ]
     },
     "execution_count": 194,
     "metadata": {},
     "output_type": "execute_result"
    }
   ],
   "source": [
    "K_list[1] # La matrice de rigidité de l'élément 1"
   ]
  },
  {
   "cell_type": "code",
   "execution_count": 196,
   "metadata": {},
   "outputs": [
    {
     "data": {
      "text/plain": [
       "4×1 Array{Float64,2}:\n",
       " 0.0\n",
       " 0.0\n",
       " 1.0\n",
       " 2.0"
      ]
     },
     "execution_count": 196,
     "metadata": {},
     "output_type": "execute_result"
    }
   ],
   "source": [
    "ddl_list[1] # Localisation ds degré de liberté de l'élément 1"
   ]
  },
  {
   "cell_type": "markdown",
   "metadata": {},
   "source": [
    "# Assemblage"
   ]
  },
  {
   "cell_type": "code",
   "execution_count": 237,
   "metadata": {},
   "outputs": [
    {
     "data": {
      "text/plain": [
       "assemblage (generic function with 1 method)"
      ]
     },
     "execution_count": 237,
     "metadata": {},
     "output_type": "execute_result"
    }
   ],
   "source": [
    "function assemblage(truss, E, A, alpha, delta_T)\n",
    "    K_list, ddl_list, f_th_list = matrice_regidite(truss, E, A, alpha, delta_T)\n",
    "    ddl_vec, elements  = ddl_vector(truss)\n",
    "    F = []; index_K = []; len_K = 0\n",
    "    # Vecteur force nodal\n",
    "    for i in 1:length(ddl_vec)\n",
    "        if ddl_vec[i] != 0\n",
    "            len_K += 1\n",
    "            if mod(i,2) == 0\n",
    "                append!(F, truss.Py[Int(ceil(i/2))])\n",
    "            else\n",
    "                append!(F, truss.Px[Int(ceil(i/2))])\n",
    "            end\n",
    "        end\n",
    "    end\n",
    "    # Assemblage des matrices de régidité\n",
    "    K = zeros(len_K, len_K)\n",
    "    for k in 1:length(ddl_list)\n",
    "        for i in 1:length(ddl_list[k])\n",
    "            if ddl_list[k][i] != 0\n",
    "                for j in 1:length(ddl_list[k])\n",
    "                    if ddl_list[k][j] != 0\n",
    "                        K[Int(ddl_list[k][i]),Int(ddl_list[k][j])] += K_list[k][i,j]\n",
    "                    end\n",
    "                end\n",
    "            end\n",
    "        end\n",
    "    end\n",
    "    # Assemblage des vecteur force\n",
    "    f_th = zeros(len_K)\n",
    "    for k in 1:length(ddl_list)\n",
    "        for i in 1:length(ddl_list[k])\n",
    "            if ddl_list[k][i] != 0\n",
    "                f_th[Int(ddl_list[k][i])] += f_th_list[k][i]\n",
    "            end\n",
    "        end\n",
    "    end\n",
    "    # Index K\n",
    "    for i in 1:length(ddl_vec)\n",
    "        if Int(ddl_vec[i]) !=0\n",
    "            if mod(i,2) == 0\n",
    "                str = \"v\"*string(Int(ceil(i/2)))\n",
    "                push!(index_K, str)\n",
    "            else\n",
    "                str = \"u\"*string(Int(ceil(i/2)))\n",
    "                push!(index_K, str)\n",
    "            end\n",
    "        end\n",
    "    end\n",
    "    return K, F, f_th, index_K\n",
    "end"
   ]
  },
  {
   "cell_type": "code",
   "execution_count": 239,
   "metadata": {},
   "outputs": [],
   "source": [
    "K, F, f_th, index_K = assemblage(df,200000, [1 1 1 1 1 1 1 1 1 1 1 1 1],0,0)"
   ]
  },
  {
   "cell_type": "code",
   "execution_count": 241,
   "metadata": {},
   "outputs": [
    {
     "data": {
      "text/plain": [
       "8×8 Array{Float64,2}:\n",
       "       1.08284e6        0.0  -141421.0  …        0.0  -141421.0   141421.0\n",
       "       0.0         682843.0  -141421.0     -400000.0   141421.0  -141421.0\n",
       " -141421.0        -141421.0   684530.0           0.0        0.0        0.0\n",
       " -141421.0        -141421.0   212976.0           0.0        0.0        0.0\n",
       "       0.0              0.0  -400000.0           0.0  -400000.0        0.0\n",
       "       0.0        -400000.0        0.0  …   682843.0        0.0        0.0\n",
       " -141421.0         141421.0        0.0           0.0   684530.0  -212976.0\n",
       "  141421.0        -141421.0        0.0           0.0  -212976.0   577198.0"
      ]
     },
     "execution_count": 241,
     "metadata": {},
     "output_type": "execute_result"
    }
   ],
   "source": [
    "K"
   ]
  },
  {
   "cell_type": "code",
   "execution_count": 242,
   "metadata": {},
   "outputs": [
    {
     "data": {
      "text/plain": [
       "8-element Array{Any,1}:\n",
       "     0\n",
       " -2000\n",
       "     0\n",
       "     0\n",
       "     0\n",
       "     0\n",
       "     0\n",
       "     0"
      ]
     },
     "execution_count": 242,
     "metadata": {},
     "output_type": "execute_result"
    }
   ],
   "source": [
    "F"
   ]
  },
  {
   "cell_type": "code",
   "execution_count": 243,
   "metadata": {},
   "outputs": [
    {
     "data": {
      "text/plain": [
       "8-element Array{Any,1}:\n",
       " \"u2\"\n",
       " \"v2\"\n",
       " \"u4\"\n",
       " \"v4\"\n",
       " \"u5\"\n",
       " \"v5\"\n",
       " \"u6\"\n",
       " \"v6\""
      ]
     },
     "execution_count": 243,
     "metadata": {},
     "output_type": "execute_result"
    }
   ],
   "source": [
    "index_K"
   ]
  },
  {
   "cell_type": "markdown",
   "metadata": {},
   "source": [
    "# Calcul des déplacements inconnus\n",
    "Cette fonction retourne Le vecteur general des déplacements inconnus"
   ]
  },
  {
   "cell_type": "code",
   "execution_count": 244,
   "metadata": {},
   "outputs": [
    {
     "data": {
      "text/plain": [
       "displacement_inconnu (generic function with 1 method)"
      ]
     },
     "execution_count": 244,
     "metadata": {},
     "output_type": "execute_result"
    }
   ],
   "source": [
    "function displacement_inconnu(truss, E, A, alpha, delta_T)\n",
    "    K, F, f_th, index = assemblage(truss, E, A, alpha, delta_T)\n",
    "    S = inv(K)*(F + f_th)\n",
    "    ddl, elements = ddl_vector(truss)\n",
    "    DDL = OrderedDict()\n",
    "    for i in 1:length(elements)\n",
    "        push!(DDL,\"u\"*string(i)=>0 ,\"v\"*string(i)=>0)\n",
    "    end\n",
    "    for i in 1:length(ddl)\n",
    "        if ddl[i] != 0\n",
    "            DDL[collect(keys(DDL))[i]] = S[Int(ddl[i])]\n",
    "        end\n",
    "    end\n",
    "    return DDL, elements\n",
    "end"
   ]
  },
  {
   "cell_type": "code",
   "execution_count": 250,
   "metadata": {},
   "outputs": [],
   "source": [
    "ddl, elements = displacement_inconnu(df,200000, [1 1 1 1 1 1 1 1 1 1 1 1 1] ,0,0)"
   ]
  },
  {
   "cell_type": "code",
   "execution_count": 252,
   "metadata": {},
   "outputs": [
    {
     "data": {
      "text/plain": [
       "13-element Array{Any,1}:\n",
       " [1, 2]\n",
       " [1, 4]\n",
       " [1, 5]\n",
       " [1, 6]\n",
       " [2, 3]\n",
       " [2, 4]\n",
       " [2, 5]\n",
       " [2, 6]\n",
       " [3, 4]\n",
       " [3, 5]\n",
       " [3, 6]\n",
       " [4, 5]\n",
       " [5, 6]"
      ]
     },
     "execution_count": 252,
     "metadata": {},
     "output_type": "execute_result"
    }
   ],
   "source": [
    "elements"
   ]
  },
  {
   "cell_type": "code",
   "execution_count": 253,
   "metadata": {},
   "outputs": [
    {
     "data": {
      "text/plain": [
       "OrderedDict{Any,Any} with 26 entries:\n",
       "  \"u1\"  => 0\n",
       "  \"v1\"  => 0\n",
       "  \"u2\"  => -5.29396e-20\n",
       "  \"v2\"  => -0.00566664\n",
       "  \"u3\"  => 0\n",
       "  \"v3\"  => 0\n",
       "  \"u4\"  => -0.000834544\n",
       "  \"v4\"  => -0.00108047\n",
       "  \"u5\"  => 1.05879e-19\n",
       "  \"v5\"  => -0.00331944\n",
       "  \"u6\"  => 0.000834544\n",
       "  \"v6\"  => -0.00108047\n",
       "  \"u7\"  => 0\n",
       "  \"v7\"  => 0\n",
       "  \"u8\"  => 0\n",
       "  \"v8\"  => 0\n",
       "  \"u9\"  => 0\n",
       "  \"v9\"  => 0\n",
       "  \"u10\" => 0\n",
       "  \"v10\" => 0\n",
       "  \"u11\" => 0\n",
       "  \"v11\" => 0\n",
       "  \"u12\" => 0\n",
       "  \"v12\" => 0\n",
       "  \"u13\" => 0\n",
       "  \"v13\" => 0"
      ]
     },
     "execution_count": 253,
     "metadata": {},
     "output_type": "execute_result"
    }
   ],
   "source": [
    "d"
   ]
  },
  {
   "cell_type": "markdown",
   "metadata": {},
   "source": [
    "# Calcul d'allongement unitaire"
   ]
  },
  {
   "cell_type": "code",
   "execution_count": 254,
   "metadata": {},
   "outputs": [
    {
     "data": {
      "text/plain": [
       "allongement_unitaire (generic function with 1 method)"
      ]
     },
     "execution_count": 254,
     "metadata": {},
     "output_type": "execute_result"
    }
   ],
   "source": [
    "function allongement_unitaire(truss, E, A, alpha, delta_T)\n",
    "    eps_n  = []\n",
    "    ddl, e = displacement_inconnu(truss, E, A, alpha, delta_T)\n",
    "    for i in 1:length(e)\n",
    "        L   = sqrt((truss.x[e[i][1]]-truss.x[e[i][2]])^2+(truss.y[e[i][1]]-truss.y[e[i][2]])^2)\n",
    "        nx  = (truss.x[e[i][1]] - truss.x[e[i][2]])/L\n",
    "        ny  = (truss.y[e[i][1]] - truss.y[e[i][2]])/L\n",
    "        key = collect(keys(ddl))\n",
    "        eps = (nx*(ddl[key[2*e[i][1]-1]] - ddl[key[2*e[i][2]-1]])+ny*(ddl[key[2*e[i][1]]] - ddl[key[2*e[i][2]]]))/L\n",
    "        append!(eps_n, eps)\n",
    "    end\n",
    "    return eps_n\n",
    "end"
   ]
  },
  {
   "cell_type": "code",
   "execution_count": 256,
   "metadata": {},
   "outputs": [
    {
     "data": {
      "text/plain": [
       "13-element Array{Any,1}:\n",
       " -1.0587911840678754e-19\n",
       " -0.0010998238841267132\n",
       " -0.00331944189031121\n",
       " -0.002160943935969213\n",
       "  1.0587911840678754e-19\n",
       "  0.003751625921554265\n",
       "  0.0046943997407875\n",
       "  0.003751625921554265\n",
       " -0.0021609439359692134\n",
       " -0.00331944189031121\n",
       " -0.0010998238841267135\n",
       " -0.001669087742332177\n",
       " -0.0016690877423321774"
      ]
     },
     "execution_count": 256,
     "metadata": {},
     "output_type": "execute_result"
    }
   ],
   "source": [
    "allongement_unitaire(df,200000, [1 1 1 1 1 1 1 1 1 1 1 1 1],0,0)"
   ]
  },
  {
   "cell_type": "markdown",
   "metadata": {},
   "source": [
    "# Calcul de l'énérgie de déformation\n",
    "Cette fonction retourne l'énérgie de déformation de chaque élément"
   ]
  },
  {
   "cell_type": "code",
   "execution_count": 257,
   "metadata": {},
   "outputs": [
    {
     "data": {
      "text/plain": [
       "energie_deformation (generic function with 1 method)"
      ]
     },
     "execution_count": 257,
     "metadata": {},
     "output_type": "execute_result"
    }
   ],
   "source": [
    "function energie_deformation(truss, E, A, alpha, delta_T)\n",
    "    E_def  = []; \n",
    "    ddl, e = displacement_inconnu(truss, E, A, alpha, delta_T)\n",
    "    for i in 1:length(e)\n",
    "        L   = sqrt((truss.x[e[i][1]]-truss.x[e[i][2]])^2+(truss.y[e[i][1]]-truss.y[e[i][2]])^2)\n",
    "        nx  = (truss.x[e[i][1]] - truss.x[e[i][2]])/L\n",
    "        ny  = (truss.y[e[i][1]] - truss.y[e[i][2]])/L\n",
    "        key = collect(keys(ddl))\n",
    "        eps = (nx*(ddl[key[2*e[i][1]-1]] - ddl[key[2*e[i][2]-1]])+ny*(ddl[key[2*e[i][1]]] - ddl[key[2*e[i][2]]]))/L\n",
    "        append!(E_def, E*A[i][1]*L*eps*(eps/2 - delta_T))\n",
    "    end\n",
    "    return E_def\n",
    "end"
   ]
  },
  {
   "cell_type": "code",
   "execution_count": 258,
   "metadata": {},
   "outputs": [
    {
     "data": {
      "text/plain": [
       "13-element Array{Any,1}:\n",
       " 5.605193857299268e-34\n",
       " 0.1352387973294166\n",
       " 0.7791393574718052\n",
       " 0.2334839347201057\n",
       " 5.605193857299268e-34\n",
       " 0.9952313730933328\n",
       " 1.1018694463152874\n",
       " 0.9952313730933328\n",
       " 0.2334839347201058\n",
       " 0.7791393574718052\n",
       " 0.13523879732941663\n",
       " 0.13929269458017618\n",
       " 0.13929269458017626"
      ]
     },
     "execution_count": 258,
     "metadata": {},
     "output_type": "execute_result"
    }
   ],
   "source": [
    "E = energie_deformation(df,200000, [1 1 1 1 1 1 1 1 1 1 1 1 1], 0, 0)"
   ]
  },
  {
   "cell_type": "markdown",
   "metadata": {},
   "source": [
    "L'énérgie total c'est la somme des E_def_i"
   ]
  },
  {
   "cell_type": "code",
   "execution_count": 259,
   "metadata": {},
   "outputs": [
    {
     "data": {
      "text/plain": [
       "5.66664176070496"
      ]
     },
     "execution_count": 259,
     "metadata": {},
     "output_type": "execute_result"
    }
   ],
   "source": [
    "sum(E)"
   ]
  },
  {
   "cell_type": "markdown",
   "metadata": {},
   "source": [
    "# L'algorithme génétique"
   ]
  },
  {
   "cell_type": "markdown",
   "metadata": {},
   "source": [
    "Les bibliothèque utilisé"
   ]
  },
  {
   "cell_type": "code",
   "execution_count": 260,
   "metadata": {},
   "outputs": [],
   "source": [
    "using Statistics\n",
    "import Base\n",
    "using StaticArrays;"
   ]
  },
  {
   "cell_type": "markdown",
   "metadata": {},
   "source": [
    "Les structures utilisé"
   ]
  },
  {
   "cell_type": "code",
   "execution_count": 261,
   "metadata": {},
   "outputs": [],
   "source": [
    "# L'individu contient une solution son cout\n",
    "struct Individual\n",
    "    position\n",
    "    cost\n",
    "end\n",
    "# Un probleme est constitué par fonction fitnesse, nbr var et les bornées\n",
    "struct Problem\n",
    "    costfunc\n",
    "    nvar\n",
    "    varmin\n",
    "    varmax\n",
    "end\n",
    "# Les parametre d'un probleme\n",
    "struct Parameter\n",
    "    maxit\n",
    "    npop\n",
    "    beta\n",
    "    pc\n",
    "    gamma\n",
    "    mu\n",
    "    sugma\n",
    "end"
   ]
  },
  {
   "cell_type": "code",
   "execution_count": 262,
   "metadata": {},
   "outputs": [
    {
     "data": {
      "text/plain": [
       "sortbycost (generic function with 1 method)"
      ]
     },
     "execution_count": 262,
     "metadata": {},
     "output_type": "execute_result"
    }
   ],
   "source": [
    "# Calcul d'exp d'un vecteur\n",
    "function exp_array(x)\n",
    "    out = zeros(length(x))\n",
    "    for i in 1:length(x)\n",
    "        out[i] = exp(x[i])\n",
    "    end\n",
    "    return out\n",
    "end\n",
    "# Selection\n",
    "function roulette_wheel_selection(p)\n",
    "    c = cumsum(p, dims = 1)\n",
    "    r = Base.sum(p)*rand()\n",
    "    ind = 0\n",
    "    for i in 1:length(c)\n",
    "        if r <= c[i]\n",
    "            ind = i\n",
    "            break\n",
    "        end\n",
    "    end\n",
    "    return ind\n",
    "end\n",
    "# Croisement\n",
    "function  crossover(p1, p2, gamma=0.1)\n",
    "    c1 = deepcopy(p1)\n",
    "    c2 = deepcopy(p1)\n",
    "    alpha = rand(length(c1.position))*(1+2*gamma).-gamma\n",
    "    c1 = Individual(alpha.*p1.position + (1 .-alpha).*p2.position, c1.cost)\n",
    "    c2 = Individual(alpha.*p2.position + (1 .-alpha).*p1.position, c2.cost)\n",
    "    return c1, c2\n",
    "end\n",
    "# Mutation\n",
    "function mutate(x, mu, sugma)\n",
    "    y = deepcopy(x)\n",
    "    ind  = []\n",
    "    for i in 1:length(x.position)\n",
    "        if rand()<= mu\n",
    "            append!(ind,i)\n",
    "        end\n",
    "    end\n",
    "    y.position[ind] += sugma*rand(length(ind))\n",
    "    return y\n",
    "end\n",
    "# \n",
    "function max_v(array, max)\n",
    "    for i in 1:length(array)\n",
    "        if array[i] < max[i]\n",
    "            array[i] = max[i]\n",
    "        end\n",
    "    end\n",
    "    return array\n",
    "end\n",
    "#\n",
    "function min_v(array, min)\n",
    "    for i in 1:length(array)\n",
    "        if array[i] > min[i]\n",
    "            array[i] = min[i]\n",
    "        end\n",
    "    end\n",
    "    return array\n",
    "end\n",
    "# Reglage des bornées\n",
    "function apply_bound(x, varmin, varmax)\n",
    "    x = Individual(max_v(x.position, varmin), x.cost)\n",
    "    x = Individual(min_v(x.position, varmax), x.cost)\n",
    "    return x\n",
    "end\n",
    "# Trie de la population\n",
    "function sortbycost(pop)\n",
    "    for i in 1:length(pop)\n",
    "        for j in 1:length(pop)\n",
    "            if pop[i].cost < pop[j].cost\n",
    "                tmp = pop[j]\n",
    "                pop[j] = pop[i]\n",
    "                pop[i] = tmp\n",
    "            end\n",
    "        end\n",
    "    end\n",
    "    return pop\n",
    "end"
   ]
  },
  {
   "cell_type": "code",
   "execution_count": 263,
   "metadata": {},
   "outputs": [
    {
     "data": {
      "text/plain": [
       "run (generic function with 1 method)"
      ]
     },
     "execution_count": 263,
     "metadata": {},
     "output_type": "execute_result"
    }
   ],
   "source": [
    "# La fonction du lancement de l'algorithme génétique\n",
    "function run(problem, params)\n",
    "    # Problem Information\n",
    "    costfunc = problem.costfunc\n",
    "    nvar = problem.nvar\n",
    "    varmin = problem.varmin\n",
    "    varmax = problem.varmax\n",
    "\n",
    "    # Parameters\n",
    "    maxit = params.maxit\n",
    "    npop = params.npop\n",
    "    beta = params.beta\n",
    "    pc = params.pc\n",
    "    nc = Int(floor(pc*npop/2)*2)\n",
    "    gamma = params.gamma\n",
    "    mu = params.mu\n",
    "    sugma = params.sugma\n",
    "    \n",
    "    # Empty Individual Template\n",
    "    empty_individual = Individual(Cvoid,Cvoid)\n",
    "    bestsol = deepcopy(empty_individual)\n",
    "    # bestsol.cost = Inf\n",
    "    bestsol = Individual(bestsol.position, Inf)\n",
    "    \n",
    "    # Initialize Population\n",
    "    pop=[]\n",
    "    for i in 1:npop\n",
    "       push!(pop,empty_individual)\n",
    "    end\n",
    "    for i in 1:npop\n",
    "        pos = rand(nvar).*(varmax-varmin).+varmin\n",
    "        costc = costfunc(pos)\n",
    "        pop[i] = Individual(pos, costc)\n",
    "        if pop[i].cost < bestsol.cost\n",
    "            bestsol = deepcopy(pop[i])\n",
    "        end\n",
    "    end\n",
    "    \n",
    "    # Best Cost of Iterations \n",
    "    bestcost = zeros(maxit)\n",
    "    \n",
    "    # Main Loop\n",
    "    for it in 1:maxit\n",
    "        costs = []\n",
    "        for i in 1:length(pop)\n",
    "            append!(costs, pop[i].cost)\n",
    "        end\n",
    "        avg_cost = mean(costs)\n",
    "        if avg_cost != 0\n",
    "            costs = costs ./avg_cost\n",
    "        end\n",
    "        probs = exp_array(-beta.*costs)\n",
    "        \n",
    "        popc = []\n",
    "        for _ in 1:floor(nc/2)\n",
    "            # Perform Roulette Wheel Selection\n",
    "            p1 = pop[roulette_wheel_selection(probs)]\n",
    "            p2 = pop[roulette_wheel_selection(probs)]\n",
    "            \n",
    "            # Perform Crossover\n",
    "            c1, c2 = crossover(p1, p2, gamma)\n",
    "            \n",
    "            # Perform Mutation\n",
    "            c1 = mutate(c1, mu, sugma)\n",
    "            c2 = mutate(c2, mu, sugma)\n",
    "            \n",
    "            # Apply Bounds\n",
    "            c1 = apply_bound(c1, varmin, varmax)\n",
    "            c2 = apply_bound(c2, varmin, varmax)\n",
    "            ## println(\"c1 = \",c1.position)\n",
    "            ## println(\"c2 = \",c2.position)\n",
    "            \n",
    "            # Evaluate First Offspring\n",
    "            c1 = Individual(c1.position, costfunc(c1.position))\n",
    "            if c1.cost < bestsol.cost\n",
    "                bestsol = deepcopy(c1)\n",
    "            end\n",
    "\n",
    "            # Evaluate Second Offspring\n",
    "            c2 = Individual(c2.position, costfunc(c2.position))\n",
    "            if c2.cost < bestsol.cost\n",
    "                bestsol = deepcopy(c2)\n",
    "            end\n",
    "            \n",
    "            # Add Offsprings to popc\n",
    "            push!(popc,c1)\n",
    "            push!(popc,c2)\n",
    "        end\n",
    "                \n",
    "        # Merge, Sort and Select 87\n",
    "        for i in 1:length(popc)\n",
    "            push!(pop,popc[i])\n",
    "        end\n",
    "        pop = sortbycost(pop)\n",
    "        pop = deepcopy(pop[1:npop])\n",
    "\n",
    "        # Store Best Cost\n",
    "        bestcost[it] = bestsol.cost\n",
    "\n",
    "        # Show Iteration Information\n",
    "        println(\"Iteration \"*string(it)*\": Best Cost = \"*string(bestcost[it]))\n",
    "    end\n",
    "    # Output\n",
    "    # out = Output(pop,bestsol,bestcost)\n",
    "    return bestsol\n",
    "end"
   ]
  },
  {
   "cell_type": "markdown",
   "metadata": {},
   "source": [
    "La fonction fintnesse"
   ]
  },
  {
   "cell_type": "code",
   "execution_count": 273,
   "metadata": {},
   "outputs": [
    {
     "data": {
      "text/plain": [
       "fitness (generic function with 1 method)"
      ]
     },
     "execution_count": 273,
     "metadata": {},
     "output_type": "execute_result"
    }
   ],
   "source": [
    "function fitness(A)\n",
    "    truss   = CSV.read(\"data3.csv\", DataFrame)\n",
    "    E       = 200000\n",
    "    alpha   =    0\n",
    "    delta_T =    0\n",
    "    return sum(energie_deformation(truss, E, A, alpha, delta_T))\n",
    "end"
   ]
  },
  {
   "cell_type": "markdown",
   "metadata": {},
   "source": [
    "Formulation du problème"
   ]
  },
  {
   "cell_type": "code",
   "execution_count": 277,
   "metadata": {},
   "outputs": [
    {
     "data": {
      "text/plain": [
       "Problem(fitness, 13, [0, 0, 0, 0, 0, 0, 0, 0, 0, 0, 0, 0, 0], [0.05, 0.25000000000000006, 0.10000000000000003, 0.05, 0.05, 0.10000000000000003, 0.05, 0.10000000000000003, 0.05, 0.10000000000000003, 0.25000000000000006, 0.05, 0.05])"
      ]
     },
     "execution_count": 277,
     "metadata": {},
     "output_type": "execute_result"
    }
   ],
   "source": [
    "costfunc = fitness\n",
    "nbr_var  =    13\n",
    "var_min  = [0,0,0,0,0,0,0,0,0,0,0,0,0]\n",
    "#Nous supposons que l'épaisseur maximale de chaque élément est de 20% de sa longueur. (Air = (0.2*L)*L)\n",
    "var_max  = 0.2.*longeur_barres(df).^2 \n",
    "\n",
    "problem = Problem(costfunc, nbr_var, var_min, var_max)"
   ]
  },
  {
   "cell_type": "markdown",
   "metadata": {},
   "source": [
    "Les paramètre de l'algorithme génétique"
   ]
  },
  {
   "cell_type": "code",
   "execution_count": 275,
   "metadata": {},
   "outputs": [
    {
     "data": {
      "text/plain": [
       "Parameter(100, 50, 1, 1, 0.1, 0.01, 0.1)"
      ]
     },
     "execution_count": 275,
     "metadata": {},
     "output_type": "execute_result"
    }
   ],
   "source": [
    "maxit = 100\n",
    "npop = 50\n",
    "beta = 1\n",
    "pc = 1\n",
    "gamma = 0.1\n",
    "mu = 0.01\n",
    "sigma = 0.1\n",
    "\n",
    "params  = Parameter(maxit, npop, beta, pc, gamma, mu, sigma)"
   ]
  },
  {
   "cell_type": "markdown",
   "metadata": {},
   "source": [
    "# Lancement de l'algorithme génétique"
   ]
  },
  {
   "cell_type": "code",
   "execution_count": 284,
   "metadata": {},
   "outputs": [
    {
     "name": "stdout",
     "output_type": "stream",
     "text": [
      "Iteration 1: Best Cost = 1413.7836514116973\n",
      "Iteration 2: Best Cost = 1399.0355204252933\n",
      "Iteration 3: Best Cost = 1394.826486784574\n",
      "Iteration 4: Best Cost = 1329.0376994884523\n",
      "Iteration 5: Best Cost = 1248.4184115353426\n",
      "Iteration 6: Best Cost = 1248.4184115353426\n",
      "Iteration 7: Best Cost = 1248.4184115353426\n",
      "Iteration 8: Best Cost = 1230.239655233126\n",
      "Iteration 9: Best Cost = 1216.2424366906412\n",
      "Iteration 10: Best Cost = 1176.9334093236596\n",
      "Iteration 11: Best Cost = 1176.9334093236596\n",
      "Iteration 12: Best Cost = 1176.9334093236596\n",
      "Iteration 13: Best Cost = 1176.9334093236596\n",
      "Iteration 14: Best Cost = 1176.9334093236596\n",
      "Iteration 15: Best Cost = 1176.771295546869\n",
      "Iteration 16: Best Cost = 1172.2066731466214\n",
      "Iteration 17: Best Cost = 1172.2066731466214\n",
      "Iteration 18: Best Cost = 1172.2066731466214\n",
      "Iteration 19: Best Cost = 1171.6886284348016\n",
      "Iteration 20: Best Cost = 1166.7220852818962\n",
      "Iteration 21: Best Cost = 1163.6476316182925\n",
      "Iteration 22: Best Cost = 1163.2667608675147\n",
      "Iteration 23: Best Cost = 1163.2667608675147\n",
      "Iteration 24: Best Cost = 1161.7627959675478\n",
      "Iteration 25: Best Cost = 1161.7627959675478\n",
      "Iteration 26: Best Cost = 1161.7627959675478\n",
      "Iteration 27: Best Cost = 1161.4433526306932\n",
      "Iteration 28: Best Cost = 1161.4433526306932\n",
      "Iteration 29: Best Cost = 1161.4433526306932\n",
      "Iteration 30: Best Cost = 1161.4433526306932\n",
      "Iteration 31: Best Cost = 1161.4433526306932\n",
      "Iteration 32: Best Cost = 1161.2826323806814\n",
      "Iteration 33: Best Cost = 1160.9694393417633\n",
      "Iteration 34: Best Cost = 1160.9694393417633\n",
      "Iteration 35: Best Cost = 1160.9694393417633\n",
      "Iteration 36: Best Cost = 1160.8425939265546\n",
      "Iteration 37: Best Cost = 1160.7936691530076\n",
      "Iteration 38: Best Cost = 1160.7936691530076\n",
      "Iteration 39: Best Cost = 1160.7786000725846\n",
      "Iteration 40: Best Cost = 1160.7484333960983\n",
      "Iteration 41: Best Cost = 1160.723441054598\n",
      "Iteration 42: Best Cost = 1160.723441054598\n",
      "Iteration 43: Best Cost = 1160.723441054598\n",
      "Iteration 44: Best Cost = 1160.7037876511633\n",
      "Iteration 45: Best Cost = 1160.7013847619542\n",
      "Iteration 46: Best Cost = 1160.6991736178813\n",
      "Iteration 47: Best Cost = 1160.6783891807154\n",
      "Iteration 48: Best Cost = 1160.6783891807154\n",
      "Iteration 49: Best Cost = 1160.6783891807154\n",
      "Iteration 50: Best Cost = 1160.6773775197262\n",
      "Iteration 51: Best Cost = 1160.6773775197262\n",
      "Iteration 52: Best Cost = 1160.6688862666906\n",
      "Iteration 53: Best Cost = 1160.6688862666906\n",
      "Iteration 54: Best Cost = 1160.6640115736445\n",
      "Iteration 55: Best Cost = 1160.6640115736445\n",
      "Iteration 56: Best Cost = 1160.6639039110928\n",
      "Iteration 57: Best Cost = 1160.6632672829592\n",
      "Iteration 58: Best Cost = 1160.6632672829592\n",
      "Iteration 59: Best Cost = 1160.6632672829592\n",
      "Iteration 60: Best Cost = 1160.662779142404\n",
      "Iteration 61: Best Cost = 1160.662779142404\n",
      "Iteration 62: Best Cost = 1160.6617908171793\n",
      "Iteration 63: Best Cost = 1160.6617908171793\n",
      "Iteration 64: Best Cost = 1160.6617908171793\n",
      "Iteration 65: Best Cost = 1160.6617908171793\n",
      "Iteration 66: Best Cost = 1160.660347276665\n",
      "Iteration 67: Best Cost = 1160.660347276665\n",
      "Iteration 68: Best Cost = 1160.660347276665\n",
      "Iteration 69: Best Cost = 1160.660347276665\n",
      "Iteration 70: Best Cost = 1160.660347276665\n",
      "Iteration 71: Best Cost = 1160.660347276665\n",
      "Iteration 72: Best Cost = 1160.660347276665\n",
      "Iteration 73: Best Cost = 1160.660347276665\n",
      "Iteration 74: Best Cost = 1160.660347276665\n",
      "Iteration 75: Best Cost = 1160.6602755496451\n",
      "Iteration 76: Best Cost = 1160.6602755496451\n",
      "Iteration 77: Best Cost = 1160.6602723396413\n",
      "Iteration 78: Best Cost = 1160.6601776772486\n",
      "Iteration 79: Best Cost = 1160.6601776772486\n",
      "Iteration 80: Best Cost = 1160.6601776772486\n",
      "Iteration 81: Best Cost = 1160.6601776772486\n",
      "Iteration 82: Best Cost = 1160.6601776772486\n",
      "Iteration 83: Best Cost = 1160.6601776772486\n",
      "Iteration 84: Best Cost = 1160.6601776772486\n",
      "Iteration 85: Best Cost = 1160.6601776772486\n",
      "Iteration 86: Best Cost = 1160.6601774560284\n",
      "Iteration 87: Best Cost = 1160.6601774560284\n",
      "Iteration 88: Best Cost = 1160.6601774560284\n",
      "Iteration 89: Best Cost = 1160.6601774560284\n",
      "Iteration 90: Best Cost = 1160.6601756459715\n",
      "Iteration 91: Best Cost = 1160.6601752487775\n",
      "Iteration 92: Best Cost = 1160.6601748657183\n",
      "Iteration 93: Best Cost = 1160.6601748657183\n",
      "Iteration 94: Best Cost = 1160.6601725661003\n",
      "Iteration 95: Best Cost = 1160.6601725661003\n",
      "Iteration 96: Best Cost = 1160.6601725060436\n",
      "Iteration 97: Best Cost = 1160.6601725060436\n",
      "Iteration 98: Best Cost = 1160.6601725060436\n",
      "Iteration 99: Best Cost = 1160.6601722880343\n",
      "Iteration 100: Best Cost = 1160.6601722880343\n"
     ]
    },
    {
     "data": {
      "text/plain": [
       "Individual([0.04999999999835901, 0.25000000000000006, 0.09999999986281966, 0.02632754935093893, 0.03365252355813212, 0.051860403240192185, 0.035743479230938485, 0.051314898271036365, 0.02202424268679677, 0.059901412024572345, 0.20233127848387233, 0.03121077625365984, 0.037408011207030974], 1160.6601722880343)"
      ]
     },
     "execution_count": 284,
     "metadata": {},
     "output_type": "execute_result"
    }
   ],
   "source": [
    "solution = run(problem, params)"
   ]
  },
  {
   "cell_type": "code",
   "execution_count": 285,
   "metadata": {},
   "outputs": [
    {
     "data": {
      "text/plain": [
       "13-element Array{Float64,1}:\n",
       " 0.04999999999835901\n",
       " 0.25000000000000006\n",
       " 0.09999999986281966\n",
       " 0.02632754935093893\n",
       " 0.03365252355813212\n",
       " 0.051860403240192185\n",
       " 0.035743479230938485\n",
       " 0.051314898271036365\n",
       " 0.02202424268679677\n",
       " 0.059901412024572345\n",
       " 0.20233127848387233\n",
       " 0.03121077625365984\n",
       " 0.037408011207030974"
      ]
     },
     "execution_count": 285,
     "metadata": {},
     "output_type": "execute_result"
    }
   ],
   "source": [
    "solution.position"
   ]
  },
  {
   "cell_type": "code",
   "execution_count": 286,
   "metadata": {},
   "outputs": [
    {
     "data": {
      "text/plain": [
       "1160.6601722880343"
      ]
     },
     "execution_count": 286,
     "metadata": {},
     "output_type": "execute_result"
    }
   ],
   "source": [
    "solution.cost"
   ]
  },
  {
   "cell_type": "code",
   "execution_count": null,
   "metadata": {},
   "outputs": [],
   "source": []
  }
 ],
 "metadata": {
  "kernelspec": {
   "display_name": "Julia 1.4.1",
   "language": "julia",
   "name": "julia-1.4"
  },
  "language_info": {
   "file_extension": ".jl",
   "mimetype": "application/julia",
   "name": "julia",
   "version": "1.4.1"
  }
 },
 "nbformat": 4,
 "nbformat_minor": 4
}
